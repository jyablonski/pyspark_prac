{
 "cells": [
  {
   "cell_type": "code",
   "execution_count": 60,
   "metadata": {},
   "outputs": [],
   "source": [
    "import os\n",
    "from datetime import datetime\n",
    "\n",
    "from pyspark.sql.types import *\n",
    "from pyspark.sql import SparkSession\n",
    "from pyspark.sql.functions import current_date, lit, col\n",
    "from pyspark.sql import functions as F\n",
    "\n",
    "# SparkSession is the entrypoint into the pyspark api.\n",
    "spark = SparkSession.builder.appName('spark_walkthrough').getOrCreate()\n",
    "\n",
    "# spark = SparkSession.builder \\\n",
    "#         .master(\"local[*]\") \\   # this is for if youre on a cluster \n",
    "#         .appName('PySpark_Tutorial') \\\n",
    "#         .getOrCreate()          # this actually creates the sparksession"
   ]
  },
  {
   "cell_type": "code",
   "execution_count": 12,
   "metadata": {},
   "outputs": [],
   "source": [
    "df = spark.read.csv('cars.csv', header = True, sep = ';')\n",
    "df_parquet = spark.read.parquet('nba_tweets.parquet')    # generic read csv, read json, read parquet format"
   ]
  },
  {
   "cell_type": "code",
   "execution_count": 14,
   "metadata": {},
   "outputs": [
    {
     "name": "stdout",
     "output_type": "stream",
     "text": [
      "root\n",
      " |-- Car: string (nullable = true)\n",
      " |-- MPG: string (nullable = true)\n",
      " |-- Cylinders: string (nullable = true)\n",
      " |-- Displacement: string (nullable = true)\n",
      " |-- Horsepower: string (nullable = true)\n",
      " |-- Weight: string (nullable = true)\n",
      " |-- Acceleration: string (nullable = true)\n",
      " |-- Model: string (nullable = true)\n",
      " |-- Origin: string (nullable = true)\n",
      "\n"
     ]
    }
   ],
   "source": [
    "df.printSchema()"
   ]
  },
  {
   "cell_type": "code",
   "execution_count": 26,
   "metadata": {},
   "outputs": [],
   "source": [
    "data_schema = [\n",
    "               StructField('Car', StringType(), True),\n",
    "               StructField('MPG', DoubleType(), True),\n",
    "               StructField('Cylinders', IntegerType(), True),\n",
    "               StructField('Displacement', DoubleType(), True),\n",
    "               StructField('Horsepower', DoubleType(), True),\n",
    "               StructField('Weight', DoubleType(), True),\n",
    "               StructField('Acceleration', DoubleType(), True),\n",
    "               StructField('Model', StringType(), True),\n",
    "               StructField('Origin', StringType(), True),\n",
    "            ]\n",
    "final_struc = StructType(fields = data_schema)\n",
    "\n",
    "data = spark.read.csv(\n",
    "    'cars.csv',\n",
    "    sep = ';',\n",
    "    header = True,\n",
    "    schema = final_struc \n",
    "    )"
   ]
  },
  {
   "cell_type": "code",
   "execution_count": 27,
   "metadata": {},
   "outputs": [
    {
     "data": {
      "text/plain": [
       "[Row(Car='Chevrolet Chevelle Malibu', MPG=18.0, Cylinders=8, Displacement=307.0, Horsepower=130.0, Weight=3504.0, Acceleration=12.0, Model='70', Origin='US'),\n",
       " Row(Car='Buick Skylark 320', MPG=15.0, Cylinders=8, Displacement=350.0, Horsepower=165.0, Weight=3693.0, Acceleration=11.5, Model='70', Origin='US'),\n",
       " Row(Car='Plymouth Satellite', MPG=18.0, Cylinders=8, Displacement=318.0, Horsepower=150.0, Weight=3436.0, Acceleration=11.0, Model='70', Origin='US'),\n",
       " Row(Car='AMC Rebel SST', MPG=16.0, Cylinders=8, Displacement=304.0, Horsepower=150.0, Weight=3433.0, Acceleration=12.0, Model='70', Origin='US'),\n",
       " Row(Car='Ford Torino', MPG=17.0, Cylinders=8, Displacement=302.0, Horsepower=140.0, Weight=3449.0, Acceleration=10.5, Model='70', Origin='US')]"
      ]
     },
     "execution_count": 27,
     "metadata": {},
     "output_type": "execute_result"
    }
   ],
   "source": [
    "data.head(5)  # to see top 5 rows"
   ]
  },
  {
   "cell_type": "code",
   "execution_count": 28,
   "metadata": {},
   "outputs": [
    {
     "data": {
      "text/plain": [
       "StructType(List(StructField(Car,StringType,true),StructField(MPG,DoubleType,true),StructField(Cylinders,IntegerType,true),StructField(Displacement,DoubleType,true),StructField(Horsepower,DoubleType,true),StructField(Weight,DoubleType,true),StructField(Acceleration,DoubleType,true),StructField(Model,StringType,true),StructField(Origin,StringType,true)))"
      ]
     },
     "execution_count": 28,
     "metadata": {},
     "output_type": "execute_result"
    }
   ],
   "source": [
    "data.schema # to see the structtype list we just passed in"
   ]
  },
  {
   "cell_type": "code",
   "execution_count": 29,
   "metadata": {},
   "outputs": [
    {
     "data": {
      "text/plain": [
       "[('Car', 'string'),\n",
       " ('MPG', 'double'),\n",
       " ('Cylinders', 'int'),\n",
       " ('Displacement', 'double'),\n",
       " ('Horsepower', 'double'),\n",
       " ('Weight', 'double'),\n",
       " ('Acceleration', 'double'),\n",
       " ('Model', 'string'),\n",
       " ('Origin', 'string')]"
      ]
     },
     "execution_count": 29,
     "metadata": {},
     "output_type": "execute_result"
    }
   ],
   "source": [
    "data.dtypes # returns list of tuples"
   ]
  },
  {
   "cell_type": "code",
   "execution_count": 30,
   "metadata": {},
   "outputs": [
    {
     "name": "stdout",
     "output_type": "stream",
     "text": [
      "+--------------------+----+---------+------------+----------+------+------------+-----+------+\n",
      "|                 Car| MPG|Cylinders|Displacement|Horsepower|Weight|Acceleration|Model|Origin|\n",
      "+--------------------+----+---------+------------+----------+------+------------+-----+------+\n",
      "|Chevrolet Chevell...|18.0|        8|       307.0|     130.0| 3504.|        12.0|   70|    US|\n",
      "|   Buick Skylark 320|15.0|        8|       350.0|     165.0| 3693.|        11.5|   70|    US|\n",
      "|  Plymouth Satellite|18.0|        8|       318.0|     150.0| 3436.|        11.0|   70|    US|\n",
      "|       AMC Rebel SST|16.0|        8|       304.0|     150.0| 3433.|        12.0|   70|    US|\n",
      "|         Ford Torino|17.0|        8|       302.0|     140.0| 3449.|        10.5|   70|    US|\n",
      "+--------------------+----+---------+------------+----------+------+------------+-----+------+\n",
      "only showing top 5 rows\n",
      "\n"
     ]
    }
   ],
   "source": [
    "df.show(5)   # retunrs top 5 rows like head but in an easier-to-read format"
   ]
  },
  {
   "cell_type": "code",
   "execution_count": 31,
   "metadata": {},
   "outputs": [
    {
     "name": "stdout",
     "output_type": "stream",
     "text": [
      "+-------+--------------------+------------------+-----------------+------------------+-----------------+------------------+------------------+------------------+------+\n",
      "|summary|                 Car|               MPG|        Cylinders|      Displacement|       Horsepower|            Weight|      Acceleration|             Model|Origin|\n",
      "+-------+--------------------+------------------+-----------------+------------------+-----------------+------------------+------------------+------------------+------+\n",
      "|  count|                 406|               406|              406|               406|              406|               406|               406|               406|   406|\n",
      "|   mean|                null|23.051231527093602|5.475369458128079| 194.7795566502463|103.5295566502463|2979.4137931034484|15.519704433497521| 75.92118226600985|  null|\n",
      "| stddev|                null|   8.4017773522706|1.712159631548529|104.92245837948867|40.52065912106347| 847.0043282393513|2.8033588163425462|3.7487373454558743|  null|\n",
      "|    min|AMC Ambassador Br...|               0.0|                3|              68.0|              0.0|            1613.0|               8.0|                70|Europe|\n",
      "|    max|        Volvo Diesel|              46.6|                8|             455.0|            230.0|            5140.0|              24.8|                82|    US|\n",
      "+-------+--------------------+------------------+-----------------+------------------+-----------------+------------------+------------------+------------------+------+\n",
      "\n"
     ]
    }
   ],
   "source": [
    "data.describe().show()  # summary statistics"
   ]
  },
  {
   "cell_type": "code",
   "execution_count": 32,
   "metadata": {},
   "outputs": [
    {
     "data": {
      "text/plain": [
       "['Car',\n",
       " 'MPG',\n",
       " 'Cylinders',\n",
       " 'Displacement',\n",
       " 'Horsepower',\n",
       " 'Weight',\n",
       " 'Acceleration',\n",
       " 'Model',\n",
       " 'Origin']"
      ]
     },
     "execution_count": 32,
     "metadata": {},
     "output_type": "execute_result"
    }
   ],
   "source": [
    "data.columns\n"
   ]
  },
  {
   "cell_type": "code",
   "execution_count": 33,
   "metadata": {},
   "outputs": [
    {
     "data": {
      "text/plain": [
       "406"
      ]
     },
     "execution_count": 33,
     "metadata": {},
     "output_type": "execute_result"
    }
   ],
   "source": [
    "data.count()  # same as len(data) in pandas\n"
   ]
  },
  {
   "cell_type": "code",
   "execution_count": 45,
   "metadata": {},
   "outputs": [
    {
     "name": "stdout",
     "output_type": "stream",
     "text": [
      "+--------------------+----+---------+------------+----------+------+------------+-----+------+----------+\n",
      "|                 Car| MPG|Cylinders|Displacement|Horsepower|Weight|Acceleration|Model|Origin|      date|\n",
      "+--------------------+----+---------+------------+----------+------+------------+-----+------+----------+\n",
      "|Chevrolet Chevell...|18.0|        8|       307.0|     130.0|3504.0|        12.0|   70|    US|2022-02-27|\n",
      "|   Buick Skylark 320|15.0|        8|       350.0|     165.0|3693.0|        11.5|   70|    US|2022-02-27|\n",
      "|  Plymouth Satellite|18.0|        8|       318.0|     150.0|3436.0|        11.0|   70|    US|2022-02-27|\n",
      "|       AMC Rebel SST|16.0|        8|       304.0|     150.0|3433.0|        12.0|   70|    US|2022-02-27|\n",
      "|         Ford Torino|17.0|        8|       302.0|     140.0|3449.0|        10.5|   70|    US|2022-02-27|\n",
      "+--------------------+----+---------+------------+----------+------+------------+-----+------+----------+\n",
      "only showing top 5 rows\n",
      "\n"
     ]
    },
    {
     "data": {
      "text/plain": [
       "[('Car', 'string'),\n",
       " ('MPG', 'double'),\n",
       " ('Cylinders', 'int'),\n",
       " ('Displacement', 'double'),\n",
       " ('Horsepower', 'double'),\n",
       " ('Weight', 'double'),\n",
       " ('Acceleration', 'double'),\n",
       " ('Model', 'string'),\n",
       " ('Origin', 'string'),\n",
       " ('date', 'date')]"
      ]
     },
     "execution_count": 45,
     "metadata": {},
     "output_type": "execute_result"
    }
   ],
   "source": [
    "# from pyspark.sql.functions import current_date\n",
    "\n",
    "\n",
    "today = datetime.now().date()\n",
    "data = data.withColumn('date', lit(today)) # have to import lit and pass it in, without it adding the new column will fail\n",
    "data.show(5)\n",
    "\n",
    "# data = data.withColumn(\"date\", current_date()) # this also exists  \n",
    "# data.dtypes #  date is actually a date"
   ]
  },
  {
   "cell_type": "code",
   "execution_count": 43,
   "metadata": {},
   "outputs": [
    {
     "name": "stdout",
     "output_type": "stream",
     "text": [
      "+--------------------+----+---------+------------+----------+------+------------+-----+------+----+\n",
      "|                 Car| MPG|Cylinders|Displacement|Horsepower|Weight|Acceleration|Model|Origin|date|\n",
      "+--------------------+----+---------+------------+----------+------+------------+-----+------+----+\n",
      "|Chevrolet Chevell...|18.0|        8|       307.0|     130.0|3504.0|        12.0|   70|    US|   5|\n",
      "|   Buick Skylark 320|15.0|        8|       350.0|     165.0|3693.0|        11.5|   70|    US|   5|\n",
      "|  Plymouth Satellite|18.0|        8|       318.0|     150.0|3436.0|        11.0|   70|    US|   5|\n",
      "|       AMC Rebel SST|16.0|        8|       304.0|     150.0|3433.0|        12.0|   70|    US|   5|\n",
      "|         Ford Torino|17.0|        8|       302.0|     140.0|3449.0|        10.5|   70|    US|   5|\n",
      "+--------------------+----+---------+------------+----------+------+------------+-----+------+----+\n",
      "only showing top 5 rows\n",
      "\n"
     ]
    }
   ],
   "source": [
    "data.show(5)"
   ]
  },
  {
   "cell_type": "code",
   "execution_count": 47,
   "metadata": {},
   "outputs": [
    {
     "name": "stdout",
     "output_type": "stream",
     "text": [
      "+--------------------+----+---------+------------+----------+------+------------+-----+------+------------+\n",
      "|                 Car| MPG|Cylinders|Displacement|Horsepower|Weight|Acceleration|Model|Origin|data_changed|\n",
      "+--------------------+----+---------+------------+----------+------+------------+-----+------+------------+\n",
      "|Chevrolet Chevell...|18.0|        8|       307.0|     130.0|3504.0|        12.0|   70|    US|  2022-02-27|\n",
      "|   Buick Skylark 320|15.0|        8|       350.0|     165.0|3693.0|        11.5|   70|    US|  2022-02-27|\n",
      "|  Plymouth Satellite|18.0|        8|       318.0|     150.0|3436.0|        11.0|   70|    US|  2022-02-27|\n",
      "|       AMC Rebel SST|16.0|        8|       304.0|     150.0|3433.0|        12.0|   70|    US|  2022-02-27|\n",
      "|         Ford Torino|17.0|        8|       302.0|     140.0|3449.0|        10.5|   70|    US|  2022-02-27|\n",
      "+--------------------+----+---------+------------+----------+------+------------+-----+------+------------+\n",
      "only showing top 5 rows\n",
      "\n"
     ]
    }
   ],
   "source": [
    "data = data.withColumnRenamed('date', 'data_changed') # rename the column\n",
    "data.show(5)"
   ]
  },
  {
   "cell_type": "code",
   "execution_count": 50,
   "metadata": {},
   "outputs": [
    {
     "name": "stdout",
     "output_type": "stream",
     "text": [
      "+--------------------+----+---------+------------+----------+------+------------+-----+------+\n",
      "|                 Car| MPG|Cylinders|Displacement|Horsepower|Weight|Acceleration|Model|Origin|\n",
      "+--------------------+----+---------+------------+----------+------+------------+-----+------+\n",
      "|Chevrolet Chevell...|18.0|        8|       307.0|     130.0|3504.0|        12.0|   70|    US|\n",
      "|   Buick Skylark 320|15.0|        8|       350.0|     165.0|3693.0|        11.5|   70|    US|\n",
      "|  Plymouth Satellite|18.0|        8|       318.0|     150.0|3436.0|        11.0|   70|    US|\n",
      "|       AMC Rebel SST|16.0|        8|       304.0|     150.0|3433.0|        12.0|   70|    US|\n",
      "|         Ford Torino|17.0|        8|       302.0|     140.0|3449.0|        10.5|   70|    US|\n",
      "|    Ford Galaxie 500|15.0|        8|       429.0|     198.0|4341.0|        10.0|   70|    US|\n",
      "|    Chevrolet Impala|14.0|        8|       454.0|     220.0|4354.0|         9.0|   70|    US|\n",
      "|   Plymouth Fury iii|14.0|        8|       440.0|     215.0|4312.0|         8.5|   70|    US|\n",
      "|    Pontiac Catalina|14.0|        8|       455.0|     225.0|4425.0|        10.0|   70|    US|\n",
      "|  AMC Ambassador DPL|15.0|        8|       390.0|     190.0|3850.0|         8.5|   70|    US|\n",
      "|Citroen DS-21 Pallas| 0.0|        4|       133.0|     115.0|3090.0|        17.5|   70|Europe|\n",
      "|Chevrolet Chevell...| 0.0|        8|       350.0|     165.0|4142.0|        11.5|   70|    US|\n",
      "|    Ford Torino (sw)| 0.0|        8|       351.0|     153.0|4034.0|        11.0|   70|    US|\n",
      "|Plymouth Satellit...| 0.0|        8|       383.0|     175.0|4166.0|        10.5|   70|    US|\n",
      "|  AMC Rebel SST (sw)| 0.0|        8|       360.0|     175.0|3850.0|        11.0|   70|    US|\n",
      "| Dodge Challenger SE|15.0|        8|       383.0|     170.0|3563.0|        10.0|   70|    US|\n",
      "|  Plymouth 'Cuda 340|14.0|        8|       340.0|     160.0|3609.0|         8.0|   70|    US|\n",
      "|Ford Mustang Boss...| 0.0|        8|       302.0|     140.0|3353.0|         8.0|   70|    US|\n",
      "|Chevrolet Monte C...|15.0|        8|       400.0|     150.0|3761.0|         9.5|   70|    US|\n",
      "|Buick Estate Wago...|14.0|        8|       455.0|     225.0|3086.0|        10.0|   70|    US|\n",
      "|Toyota Corolla Ma...|24.0|        4|       113.0|      95.0|2372.0|        15.0|   70| Japan|\n",
      "|     Plymouth Duster|22.0|        6|       198.0|      95.0|2833.0|        15.5|   70|    US|\n",
      "|          AMC Hornet|18.0|        6|       199.0|      97.0|2774.0|        15.5|   70|    US|\n",
      "|       Ford Maverick|21.0|        6|       200.0|      85.0|2587.0|        16.0|   70|    US|\n",
      "|        Datsun PL510|27.0|        4|        97.0|      88.0|2130.0|        14.5|   70| Japan|\n",
      "+--------------------+----+---------+------------+----------+------+------------+-----+------+\n",
      "only showing top 25 rows\n",
      "\n"
     ]
    }
   ],
   "source": [
    "data = data.drop('data_changed')  # delete a column\n",
    "data.show(25)"
   ]
  },
  {
   "cell_type": "code",
   "execution_count": null,
   "metadata": {},
   "outputs": [],
   "source": [
    "data.na.drop() # drop na values\n",
    "data.na.fill(data.select(F.mean(data['open'])).collect()[0][0])  # replace na with mean"
   ]
  },
  {
   "cell_type": "code",
   "execution_count": 58,
   "metadata": {},
   "outputs": [
    {
     "name": "stdout",
     "output_type": "stream",
     "text": [
      "+----+\n",
      "| MPG|\n",
      "+----+\n",
      "|18.0|\n",
      "|15.0|\n",
      "|18.0|\n",
      "|16.0|\n",
      "|17.0|\n",
      "+----+\n",
      "only showing top 5 rows\n",
      "\n",
      "+----+\n",
      "| MPG|\n",
      "+----+\n",
      "|18.0|\n",
      "|15.0|\n",
      "|18.0|\n",
      "|16.0|\n",
      "|17.0|\n",
      "+----+\n",
      "only showing top 5 rows\n",
      "\n"
     ]
    }
   ],
   "source": [
    "# df2 = data.select('MPG').show(5) # this returns nothing in df2\n",
    "df2 = data.select('MPG')\n",
    "df2.show(5)"
   ]
  },
  {
   "cell_type": "code",
   "execution_count": 59,
   "metadata": {},
   "outputs": [
    {
     "name": "stdout",
     "output_type": "stream",
     "text": [
      "+--------------------+----+----------+\n",
      "|                 Car| MPG|Horsepower|\n",
      "+--------------------+----+----------+\n",
      "|Chevrolet Chevell...|18.0|     130.0|\n",
      "|   Buick Skylark 320|15.0|     165.0|\n",
      "|  Plymouth Satellite|18.0|     150.0|\n",
      "|       AMC Rebel SST|16.0|     150.0|\n",
      "|         Ford Torino|17.0|     140.0|\n",
      "+--------------------+----+----------+\n",
      "only showing top 5 rows\n",
      "\n"
     ]
    }
   ],
   "source": [
    "data.select(['Car', 'MPG', 'Horsepower']).show(5)"
   ]
  },
  {
   "cell_type": "code",
   "execution_count": 66,
   "metadata": {},
   "outputs": [
    {
     "name": "stdout",
     "output_type": "stream",
     "text": [
      "+--------------------+----+---------+------------+----------+------+------------+-----+------+\n",
      "|                 Car| MPG|Cylinders|Displacement|Horsepower|Weight|Acceleration|Model|Origin|\n",
      "+--------------------+----+---------+------------+----------+------+------------+-----+------+\n",
      "|Citroen DS-21 Pallas| 0.0|        4|       133.0|     115.0|3090.0|        17.5|   70|Europe|\n",
      "|Volkswagen 1131 D...|26.0|        4|        97.0|      46.0|1835.0|        20.5|   70|Europe|\n",
      "|         Peugeot 504|25.0|        4|       110.0|      87.0|2672.0|        17.5|   70|Europe|\n",
      "|         Audi 100 LS|24.0|        4|       107.0|      90.0|2430.0|        14.5|   70|Europe|\n",
      "|            Saab 99e|25.0|        4|       104.0|      95.0|2375.0|        17.5|   70|Europe|\n",
      "+--------------------+----+---------+------------+----------+------+------------+-----+------+\n",
      "only showing top 5 rows\n",
      "\n",
      "+--------------------+----+---------+------------+----------+------+------------+-----+------+\n",
      "|                 Car| MPG|Cylinders|Displacement|Horsepower|Weight|Acceleration|Model|Origin|\n",
      "+--------------------+----+---------+------------+----------+------+------------+-----+------+\n",
      "|Chevrolet Chevell...|18.0|        8|       307.0|     130.0|3504.0|        12.0|   70|    US|\n",
      "|   Buick Skylark 320|15.0|        8|       350.0|     165.0|3693.0|        11.5|   70|    US|\n",
      "|  Plymouth Satellite|18.0|        8|       318.0|     150.0|3436.0|        11.0|   70|    US|\n",
      "|       AMC Rebel SST|16.0|        8|       304.0|     150.0|3433.0|        12.0|   70|    US|\n",
      "|         Ford Torino|17.0|        8|       302.0|     140.0|3449.0|        10.5|   70|    US|\n",
      "+--------------------+----+---------+------------+----------+------+------------+-----+------+\n",
      "only showing top 5 rows\n",
      "\n"
     ]
    }
   ],
   "source": [
    "data.filter(col('Origin') == 'Europe').show(5)\n",
    "data.filter((col('Origin') != 'Europe') & (col('Horsepower') >= 115.0)).show(5) # have to wrap them in parantheses\n"
   ]
  },
  {
   "cell_type": "code",
   "execution_count": 68,
   "metadata": {},
   "outputs": [
    {
     "name": "stdout",
     "output_type": "stream",
     "text": [
      "+--------------------+----+---------+------------+----------+------+------------+-----+------+\n",
      "|                 Car| MPG|Cylinders|Displacement|Horsepower|Weight|Acceleration|Model|Origin|\n",
      "+--------------------+----+---------+------------+----------+------+------------+-----+------+\n",
      "|    Ford Galaxie 500|15.0|        8|       429.0|     198.0|4341.0|        10.0|   70|    US|\n",
      "|   Plymouth Fury iii|14.0|        8|       440.0|     215.0|4312.0|         8.5|   70|    US|\n",
      "|  AMC Ambassador DPL|15.0|        8|       390.0|     190.0|3850.0|         8.5|   70|    US|\n",
      "|Plymouth Satellit...| 0.0|        8|       383.0|     175.0|4166.0|        10.5|   70|    US|\n",
      "|  AMC Rebel SST (sw)| 0.0|        8|       360.0|     175.0|3850.0|        11.0|   70|    US|\n",
      "|           Ford F250|10.0|        8|       360.0|     215.0|4615.0|        14.0|   70|    US|\n",
      "|           Chevy C20|10.0|        8|       307.0|     200.0|4376.0|        15.0|   70|    US|\n",
      "|          Dodge D200|11.0|        8|       318.0|     210.0|4382.0|        13.5|   70|    US|\n",
      "|            Hi 1200D| 9.0|        8|       304.0|     193.0|4732.0|        18.5|   70|    US|\n",
      "|Pontiac Catalina ...|14.0|        8|       400.0|     175.0|4464.0|        11.5|   71|    US|\n",
      "|   Dodge Monaco (sw)|12.0|        8|       383.0|     180.0|4955.0|        11.5|   71|    US|\n",
      "| Pontiac Safari (sw)|13.0|        8|       400.0|     175.0|5140.0|        12.0|   71|    US|\n",
      "|    Pontiac Catalina|14.0|        8|       400.0|     175.0|4385.0|        12.0|   72|    US|\n",
      "|     Mercury Marquis|11.0|        8|       429.0|     208.0|4633.0|        11.0|   72|    US|\n",
      "|Chrysler Newport ...|13.0|        8|       400.0|     190.0|4422.0|        12.5|   72|    US|\n",
      "|   Buick Century 350|13.0|        8|       350.0|     175.0|4100.0|        13.0|   73|    US|\n",
      "|Mercury Marquis B...|12.0|        8|       429.0|     198.0|4952.0|        11.5|   73|    US|\n",
      "|Chrysler New York...|13.0|        8|       440.0|     215.0|4735.0|        11.0|   73|    US|\n",
      "|AMC Ambassador Br...|13.0|        8|       360.0|     175.0|3821.0|        11.0|   73|    US|\n",
      "|Oldsmobile Vista ...|12.0|        8|       350.0|     180.0|4499.0|        12.5|   73|    US|\n",
      "+--------------------+----+---------+------------+----------+------+------------+-----+------+\n",
      "only showing top 20 rows\n",
      "\n"
     ]
    }
   ],
   "source": [
    "data.filter(data.Horsepower.between(175.0, 215.0)).show() # this formatting is fuckign stupid"
   ]
  },
  {
   "cell_type": "code",
   "execution_count": 76,
   "metadata": {},
   "outputs": [
    {
     "name": "stdout",
     "output_type": "stream",
     "text": [
      "+----------+-------+\n",
      "|Horsepower|my_func|\n",
      "+----------+-------+\n",
      "|     130.0|   OOOF|\n",
      "|     165.0|   OOOF|\n",
      "|     150.0|   OOOF|\n",
      "|     150.0|   OOOF|\n",
      "|     140.0|   OOOF|\n",
      "|     198.0|   OOOF|\n",
      "|     220.0|   YEET|\n",
      "|     215.0|   YEET|\n",
      "|     225.0|   YEET|\n",
      "|     190.0|   OOOF|\n",
      "|     115.0|   OOOF|\n",
      "|     165.0|   OOOF|\n",
      "|     153.0|   OOOF|\n",
      "|     175.0|   OOOF|\n",
      "|     175.0|   OOOF|\n",
      "|     170.0|   OOOF|\n",
      "|     160.0|   OOOF|\n",
      "|     140.0|   OOOF|\n",
      "|     150.0|   OOOF|\n",
      "|     225.0|   YEET|\n",
      "|      95.0|   OOOF|\n",
      "|      95.0|   OOOF|\n",
      "|      97.0|   OOOF|\n",
      "|      85.0|   OOOF|\n",
      "|      88.0|   OOOF|\n",
      "+----------+-------+\n",
      "only showing top 25 rows\n",
      "\n",
      "+----------+-----------+\n",
      "|Horsepower|is_fast_car|\n",
      "+----------+-----------+\n",
      "|     130.0|          0|\n",
      "|     165.0|          0|\n",
      "|     150.0|          0|\n",
      "|     150.0|          0|\n",
      "|     140.0|          0|\n",
      "|     198.0|          0|\n",
      "|     220.0|          1|\n",
      "|     215.0|          1|\n",
      "|     225.0|          1|\n",
      "|     190.0|          0|\n",
      "|     115.0|          0|\n",
      "|     165.0|          0|\n",
      "|     153.0|          0|\n",
      "|     175.0|          0|\n",
      "|     175.0|          0|\n",
      "|     170.0|          0|\n",
      "|     160.0|          0|\n",
      "|     140.0|          0|\n",
      "|     150.0|          0|\n",
      "|     225.0|          1|\n",
      "|      95.0|          0|\n",
      "|      95.0|          0|\n",
      "|      97.0|          0|\n",
      "|      85.0|          0|\n",
      "|      88.0|          0|\n",
      "+----------+-----------+\n",
      "only showing top 25 rows\n",
      "\n"
     ]
    }
   ],
   "source": [
    "# basic if else - not sure how to do a proper case when yet.\n",
    "\n",
    "data.select('Horsepower', \n",
    "            F.when(data.Horsepower >= 200.0, 'YEET').otherwise('OOOF')\n",
    "           .alias('my_func')).show(25)\n",
    "\n",
    "data.select('Horsepower', \n",
    "            F.when(data.Horsepower >= 200.0, 1).otherwise(0).alias('is_fast_car')\n",
    "           ).show(25)"
   ]
  },
  {
   "cell_type": "code",
   "execution_count": null,
   "metadata": {},
   "outputs": [],
   "source": []
  }
 ],
 "metadata": {
  "interpreter": {
   "hash": "93d87aec9b4fd1bcf27c0a424f383372d98ca308b2ecd2482b3b93b80e453b15"
  },
  "kernelspec": {
   "display_name": "Python 3.8.10 ('pyspark_prac-QhYfwHaC')",
   "language": "python",
   "name": "python3"
  },
  "language_info": {
   "codemirror_mode": {
    "name": "ipython",
    "version": 3
   },
   "file_extension": ".py",
   "mimetype": "text/x-python",
   "name": "python",
   "nbconvert_exporter": "python",
   "pygments_lexer": "ipython3",
   "version": "3.8.10"
  },
  "orig_nbformat": 4
 },
 "nbformat": 4,
 "nbformat_minor": 2
}
