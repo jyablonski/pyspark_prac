{
 "cells": [
  {
   "cell_type": "code",
   "execution_count": 22,
   "metadata": {},
   "outputs": [],
   "source": [
    "import pyspark\n",
    "from pyspark.sql import Row\n",
    "import pandas as pd\n",
    "from datetime import datetime, date\n",
    "\n",
    "from pyspark.sql import SparkSession\n",
    "spark = SparkSession.builder.appName(\"Practice\").getOrCreate()"
   ]
  },
  {
   "cell_type": "code",
   "execution_count": 4,
   "metadata": {},
   "outputs": [
    {
     "data": {
      "text/html": [
       "\n",
       "            <div>\n",
       "                <p><b>SparkSession - in-memory</b></p>\n",
       "                \n",
       "        <div>\n",
       "            <p><b>SparkContext</b></p>\n",
       "\n",
       "            <p><a href=\"http://192.168.50.142:4040\">Spark UI</a></p>\n",
       "\n",
       "            <dl>\n",
       "              <dt>Version</dt>\n",
       "                <dd><code>v3.2.0</code></dd>\n",
       "              <dt>Master</dt>\n",
       "                <dd><code>local[*]</code></dd>\n",
       "              <dt>AppName</dt>\n",
       "                <dd><code>Practice</code></dd>\n",
       "            </dl>\n",
       "        </div>\n",
       "        \n",
       "            </div>\n",
       "        "
      ],
      "text/plain": [
       "<pyspark.sql.session.SparkSession at 0x7f67847d6be0>"
      ]
     },
     "execution_count": 4,
     "metadata": {},
     "output_type": "execute_result"
    }
   ],
   "source": [
    "spark"
   ]
  },
  {
   "cell_type": "code",
   "execution_count": 7,
   "metadata": {},
   "outputs": [],
   "source": [
    "df = spark.read.csv('nba_tweets.csv', header = True)"
   ]
  },
  {
   "cell_type": "code",
   "execution_count": 8,
   "metadata": {},
   "outputs": [
    {
     "name": "stdout",
     "output_type": "stream",
     "text": [
      "+-------------------+-------------------+--------------------+----------+--------+--------+-------------------+---------------+--------------------+-----+----------------------------------+--------+--------------------+--------------------+------+-------------+--------------+-----------+--------------------+--------+--------------------+-------+---------+-----+--------------------+----+----+------+----------+-------+----------+--------------------+------------+---------+---------+----------+\n",
      "|                 id|    conversation_id|          created_at|      date|    time|timezone|            user_id|       username|                name|place|                             tweet|language|            mentions|                urls|photos|replies_count|retweets_count|likes_count|            hashtags|cashtags|                link|retweet|quote_url|video|           thumbnail|near| geo|source|user_rt_id|user_rt|retweet_id|            reply_to|retweet_date|translate|trans_src|trans_dest|\n",
      "+-------------------+-------------------+--------------------+----------+--------+--------+-------------------+---------------+--------------------+-----+----------------------------------+--------+--------------------+--------------------+------+-------------+--------------+-----------+--------------------+--------+--------------------+-------+---------+-----+--------------------+----+----+------+----------+-------+----------+--------------------+------------+---------+---------+----------+\n",
      "|1478885309626544130|1478884437991608323|2022-01-05 18:25:...|2022-01-05|18:25:08|   -0600|1373081665916915714|   pipehennessy|   CJ Stroud Heisman| null|              @LegendOfWinning ...|      en|                  []|                  []|    []|            0|             0|          0|                  []|      []|https://twitter.c...|  False|     null|    0|                null|null|null|  null|      null|   null|      null|[{'screen_name': ...|        null|     null|     null|      null|\n",
      "|1478885303704342528|1478885303704342528|2022-01-05 18:25:...|2022-01-05|18:25:07|   -0600| 834634229048815616|       oceanroi|           OCEAN DFS| null|              Desmond Bane (qua...|      en|                  []|['https://ift.tt/...|    []|            0|             0|          0|      ['nba', 'dfs']|      []|https://twitter.c...|  False|     null|    0|                null|null|null|  null|      null|   null|      null|                  []|        null|     null|     null|      null|\n",
      "|1478885303695724546|1478885303695724546|2022-01-05 18:25:...|2022-01-05|18:25:07|   -0600|         2294708612|   hoops227_nfl|       Jamaal Al-Din| null|               https://t.co/oEX...|      en|                  []|['http://nba.com/...|    []|            0|             0|          0|                  []|      []|https://twitter.c...|  False|     null|    0|                null|null|null|  null|      null|   null|      null|                  []|        null|     null|     null|      null|\n",
      "|1478885296217358338|1478885296217358338|2022-01-05 18:25:...|2022-01-05|18:25:05|   -0600|         2294708612|   hoops227_nfl|       Jamaal Al-Din| null|               https://t.co/s3z...|      en|                  []|['http://nba.com/...|    []|            0|             0|          0|        ['lakeshow']|      []|https://twitter.c...|  False|     null|    0|                null|null|null|  null|      null|   null|      null|                  []|        null|     null|     null|      null|\n",
      "|1478885294841683968|1478884396266672130|2022-01-05 18:25:...|2022-01-05|18:25:05|   -0600| 845448713443119105|     nicksophfe|               Nikão| null|              @PauladaJr Tinha ...|      pt|                  []|                  []|    []|            0|             0|          0|                  []|      []|https://twitter.c...|  False|     null|    0|                null|null|null|  null|      null|   null|      null|[{'screen_name': ...|        null|     null|     null|      null|\n",
      "|1478885294824898562|1478885294824898562|2022-01-05 18:25:...|2022-01-05|18:25:05|   -0600| 795346984458653696|    thefocus_tv|            Focus TV| null|              \"Beal and Christi...|      en|                  []|                  []|    []|            0|             0|          0|['thefocustv', 'w...|      []|https://twitter.c...|  False|     null|    0|                null|null|null|  null|      null|   null|      null|                  []|        null|     null|     null|      null|\n",
      "|1478885291750576145|1478857772389306370|2022-01-05 18:25:...|2022-01-05|18:25:04|   -0600|          837452114|         nba_de|        NBA Dirkland| null|              10.4.2019 - Last ...|      et|                  []|                  []|    []|            0|             0|          0|                  []|      []|https://twitter.c...|  False|     null|    1|https://pbs.twimg...|null|null|  null|      null|   null|      null|                  []|        null|     null|     null|      null|\n",
      "|1478885290848964611|1478885290848964611|2022-01-05 18:25:...|2022-01-05|18:25:04|   -0600|         1116850286|    jmac2312012|     NBAの名言＆迷言| null|【告知】私の発行するNBAメルマガ...|      ja|                  []|['http://bit.ly/Z...|    []|            0|             0|          0|                  []|      []|https://twitter.c...|  False|     null|    0|                null|null|null|  null|      null|   null|      null|                  []|        null|     null|     null|      null|\n",
      "|1478885289082818561|1478885289082818561|2022-01-05 18:25:...|2022-01-05|18:25:03|   -0600|         2294708612|   hoops227_nfl|       Jamaal Al-Din| null|              NBA Leader: 27.4 ...|      en|                  []|['https://www.you...|    []|            0|             1|          0|                  []|      []|https://twitter.c...|  False|     null|    0|                null|null|null|  null|      null|   null|      null|                  []|        null|     null|     null|      null|\n",
      "|1478885288848105474|1478865460238110728|2022-01-05 18:25:...|2022-01-05|18:25:03|   -0600|          120123383|   extremegamer|       Scott Burress| null|              @DirtyJerz32 @OSU...|      en|                  []|                  []|    []|            0|             0|          0|                  []|      []|https://twitter.c...|  False|     null|    0|                null|null|null|  null|      null|   null|      null|[{'screen_name': ...|        null|     null|     null|      null|\n",
      "|1478885286394437634|1478884612042547206|2022-01-05 18:25:...|2022-01-05|18:25:03|   -0600|          250726039| mrstinkfingers| One Star Kyle ★☆☆☆☆| null|              @E_Pistons_Pod At...|      en|[{'screen_name': ...|                  []|    []|            0|             0|          0|                  []|      []|https://twitter.c...|  False|     null|    0|                null|null|null|  null|      null|   null|      null|[{'screen_name': ...|        null|     null|     null|      null|\n",
      "|1478885282992689153|1478885282992689153|2022-01-05 18:25:...|2022-01-05|18:25:02|   -0600|1353081169940680704|     sediokapor|          sediokapor| null|              Denver Nuggets vs...|      en|                  []|['http://4k-hd.sp...|    []|            0|             0|          0|                  []|      []|https://twitter.c...|  False|     null|    1|https://pbs.twimg...|null|null|  null|      null|   null|      null|                  []|        null|     null|     null|      null|\n",
      "|1478885277179555843|1478885277179555843|2022-01-05 18:25:...|2022-01-05|18:25:01|   -0600|1318323072362074112|       jahsiri_|         Luka Tronic| null|              \"nobody:  NBA com...|      en|                  []|                  []|    []|            0|             0|          0|                  []|      []|https://twitter.c...|  False|     null|    0|                null|null|null|  null|      null|   null|      null|                  []|        null|     null|     null|      null|\n",
      "|1478885276931997701|1478885276931997701|2022-01-05 18:25:...|2022-01-05|18:25:01|   -0600|           21842584|  ballysportssw|Bally Sports Sout...| null|              From unknown to u...|      en|[{'screen_name': ...|                  []|    []|            0|             0|          0|       ['41forever']|      []|https://twitter.c...|  False|     null|    1|https://pbs.twimg...|null|null|  null|      null|   null|      null|                  []|        null|     null|     null|      null|\n",
      "|1478885273547120640|1478885273547120640|2022-01-05 18:25:...|2022-01-05|18:25:00|   -0600| 996145596200255488|         _tjkc_|Thom J. K. Cunnin...| null|              #ThunderUp has co...|      en|                  []|                  []|    []|            0|             0|          0|['thunderup', 'ra...|      []|https://twitter.c...|  False|     null|    0|                null|null|null|  null|      null|   null|      null|                  []|        null|     null|     null|      null|\n",
      "|1478885250835140614|1471255710352687108|2022-01-05 18:24:...|2022-01-05|18:24:54|   -0600|1359333543764189185|americanscreen1|NFL 🏈 AmericanSc...| null|              @BarreroCR Gran n...|      es|                  []|                  []|    []|            0|             0|          0|                  []|      []|https://twitter.c...|  False|     null|    0|                null|null|null|  null|      null|   null|      null|[{'screen_name': ...|        null|     null|     null|      null|\n",
      "|1478885243906150403|1478885243906150403|2022-01-05 18:24:...|2022-01-05|18:24:53|   -0600|1321111384118222854|shagsportscards|   SHAG Sports Cards| null|              Superrrrrrrrrr ch...|      en|                  []|['https://shagspo...|    []|            0|             0|          0|                  []|      []|https://twitter.c...|  False|     null|    0|                null|null|null|  null|      null|   null|      null|                  []|        null|     null|     null|      null|\n",
      "|1478885231071576070|1478885231071576070|2022-01-05 18:24:...|2022-01-05|18:24:50|   -0600|1338985125728628737|  patriotsway71|        patriotsway7| null|              Wow crybaby @Joel...|      en|[{'screen_name': ...|                  []|    []|            0|             0|          0|    ['orlandomagic']|      []|https://twitter.c...|  False|     null|    0|                null|null|null|  null|      null|   null|      null|                  []|        null|     null|     null|      null|\n",
      "|1478885222405926913|1478885222405926913|2022-01-05 18:24:...|2022-01-05|18:24:48|   -0600|1353081169940680704|     sediokapor|          sediokapor| null|              Minnesota Timberw...|      en|                  []|['http://4k-hd.sp...|    []|            0|             0|          0|                  []|      []|https://twitter.c...|  False|     null|    1|https://pbs.twimg...|null|null|  null|      null|   null|      null|                  []|        null|     null|     null|      null|\n",
      "|1478885214382399488|1478885214382399488|2022-01-05 18:24:...|2022-01-05|18:24:46|   -0600| 921027039146266629|    cameroonmag|   Cameroon Magazine| null|              CM – Prédictions ...|      fr|                  []|['https://www.cam...|    []|            0|             0|          0|                  []|      []|https://twitter.c...|  False|     null|    0|                null|null|null|  null|      null|   null|      null|                  []|        null|     null|     null|      null|\n",
      "+-------------------+-------------------+--------------------+----------+--------+--------+-------------------+---------------+--------------------+-----+----------------------------------+--------+--------------------+--------------------+------+-------------+--------------+-----------+--------------------+--------+--------------------+-------+---------+-----+--------------------+----+----+------+----------+-------+----------+--------------------+------------+---------+---------+----------+\n",
      "only showing top 20 rows\n",
      "\n"
     ]
    },
    {
     "name": "stderr",
     "output_type": "stream",
     "text": [
      "22/01/23 19:10:08 WARN package: Truncated the string representation of a plan since it was too large. This behavior can be adjusted by setting 'spark.sql.debug.maxToStringFields'.\n"
     ]
    }
   ],
   "source": [
    "df.show()"
   ]
  },
  {
   "cell_type": "code",
   "execution_count": 9,
   "metadata": {},
   "outputs": [
    {
     "data": {
      "text/plain": [
       "[Row(id='1478885309626544130', conversation_id='1478884437991608323', created_at='2022-01-05 18:25:08 CST', date='2022-01-05', time='18:25:08', timezone='-0600', user_id='1373081665916915714', username='pipehennessy', name='CJ Stroud Heisman', place=None, tweet='@LegendOfWinning Nigga fat talking about nba players', language='en', mentions='[]', urls='[]', photos='[]', replies_count='0', retweets_count='0', likes_count='0', hashtags='[]', cashtags='[]', link='https://twitter.com/PipeHennessy/status/1478885309626544130', retweet='False', quote_url=None, video='0', thumbnail=None, near=None, geo=None, source=None, user_rt_id=None, user_rt=None, retweet_id=None, reply_to=\"[{'screen_name': 'LegendOfWinning', 'name': 'LegendOfWinning', 'id': '1642136329'}]\", retweet_date=None, translate=None, trans_src=None, trans_dest=None),\n",
       " Row(id='1478885303704342528', conversation_id='1478885303704342528', created_at='2022-01-05 18:25:07 CST', date='2022-01-05', time='18:25:07', timezone='-0600', user_id='834634229048815616', username='oceanroi', name='OCEAN DFS', place=None, tweet='Desmond Bane (quad) doubtful Thursday.    #NBA #DFS    https://t.co/9c3GLd34WM', language='en', mentions='[]', urls=\"['https://ift.tt/3pqSgtI']\", photos='[]', replies_count='0', retweets_count='0', likes_count='0', hashtags=\"['nba', 'dfs']\", cashtags='[]', link='https://twitter.com/OceanROI/status/1478885303704342528', retweet='False', quote_url=None, video='0', thumbnail=None, near=None, geo=None, source=None, user_rt_id=None, user_rt=None, retweet_id=None, reply_to='[]', retweet_date=None, translate=None, trans_src=None, trans_dest=None),\n",
       " Row(id='1478885303695724546', conversation_id='1478885303695724546', created_at='2022-01-05 18:25:07 CST', date='2022-01-05', time='18:25:07', timezone='-0600', user_id='2294708612', username='hoops227_nfl', name='Jamaal Al-Din', place=None, tweet=' https://t.co/oEXRGZgaWE NBA LIVE: WARRIORS VS MAVERICKS (Livescore)  https://t.co/jMxlEaJ7uf  https://t.co/v6vxXFGGY0', language='en', mentions='[]', urls=\"['http://nba.com/clippers', 'https://www.youtube.com/watch?v=y7X891dIh2s&utm_source=dlvr.it&utm_medium=twitter', 'https://www.att.com']\", photos='[]', replies_count='0', retweets_count='0', likes_count='0', hashtags='[]', cashtags='[]', link='https://twitter.com/Hoops227_NFL/status/1478885303695724546', retweet='False', quote_url=None, video='0', thumbnail=None, near=None, geo=None, source=None, user_rt_id=None, user_rt=None, retweet_id=None, reply_to='[]', retweet_date=None, translate=None, trans_src=None, trans_dest=None),\n",
       " Row(id='1478885296217358338', conversation_id='1478885296217358338', created_at='2022-01-05 18:25:05 CST', date='2022-01-05', time='18:25:05', timezone='-0600', user_id='2294708612', username='hoops227_nfl', name='Jamaal Al-Din', place=None, tweet=\" https://t.co/s3z0MwmjVt Stanley Johnson Returning to The 227's YouTube Chili' Los Angeles Chili' Lakers #LakeShow Spicy'  https://t.co/WEHtanNhbz  https://t.co/V0vhTXSooA Spicy' NBA Mix! on a 10-Day Contract is Likely! Lakers News  https://t.co/wdo8xmp0iT  https://t.co/v6vxXFGGY0\", language='en', mentions='[]', urls=\"['http://nba.com/lakers', 'https://www.nike.com/w/los-angeles-lakers-6m6dc', 'https://www.americanexpress.com', 'https://www.youtube.com/watch?v=OSoRiMys7iA&utm_source=dlvr.it&utm_medium=twitter', 'https://www.att.com']\", photos='[]', replies_count='0', retweets_count='0', likes_count='0', hashtags=\"['lakeshow']\", cashtags='[]', link='https://twitter.com/Hoops227_NFL/status/1478885296217358338', retweet='False', quote_url=None, video='0', thumbnail=None, near=None, geo=None, source=None, user_rt_id=None, user_rt=None, retweet_id=None, reply_to='[]', retweet_date=None, translate=None, trans_src=None, trans_dest=None),\n",
       " Row(id='1478885294841683968', conversation_id='1478884396266672130', created_at='2022-01-05 18:25:05 CST', date='2022-01-05', time='18:25:05', timezone='-0600', user_id='845448713443119105', username='nicksophfe', name='Nikão', place=None, tweet='@PauladaJr Tinha uma época q eu comprava e comia vendo NBA kkkkk uma pizza de palmito tbm é forte demais', language='pt', mentions='[]', urls='[]', photos='[]', replies_count='0', retweets_count='0', likes_count='0', hashtags='[]', cashtags='[]', link='https://twitter.com/Nicksophfe/status/1478885294841683968', retweet='False', quote_url=None, video='0', thumbnail=None, near=None, geo=None, source=None, user_rt_id=None, user_rt=None, retweet_id=None, reply_to=\"[{'screen_name': 'PauladaJr', 'name': 'paulo', 'id': '1045784064'}]\", retweet_date=None, translate=None, trans_src=None, trans_dest=None)]"
      ]
     },
     "execution_count": 9,
     "metadata": {},
     "output_type": "execute_result"
    }
   ],
   "source": [
    "df.take(5)"
   ]
  },
  {
   "cell_type": "code",
   "execution_count": 1,
   "metadata": {},
   "outputs": [
    {
     "ename": "NameError",
     "evalue": "name 'spark' is not defined",
     "output_type": "error",
     "traceback": [
      "\u001b[0;31m---------------------------------------------------------------------------\u001b[0m",
      "\u001b[0;31mNameError\u001b[0m                                 Traceback (most recent call last)",
      "\u001b[0;32m/tmp/ipykernel_48080/2068976677.py\u001b[0m in \u001b[0;36m<module>\u001b[0;34m\u001b[0m\n\u001b[0;32m----> 1\u001b[0;31m \u001b[0mdf\u001b[0m \u001b[0;34m=\u001b[0m \u001b[0mspark\u001b[0m\u001b[0;34m.\u001b[0m\u001b[0mread\u001b[0m\u001b[0;34m.\u001b[0m\u001b[0moption\u001b[0m\u001b[0;34m(\u001b[0m\u001b[0;34m'header'\u001b[0m\u001b[0;34m,\u001b[0m \u001b[0;34m'true'\u001b[0m\u001b[0;34m)\u001b[0m\u001b[0;34m.\u001b[0m\u001b[0mcsv\u001b[0m\u001b[0;34m(\u001b[0m\u001b[0;34m'nba_tweets.csv'\u001b[0m\u001b[0;34m)\u001b[0m\u001b[0;34m\u001b[0m\u001b[0;34m\u001b[0m\u001b[0m\n\u001b[0m",
      "\u001b[0;31mNameError\u001b[0m: name 'spark' is not defined"
     ]
    }
   ],
   "source": [
    "df = spark.read.option('header', 'true').csv('nba_tweets.csv')\n",
    "# to select certain columns\n",
    "df.show()"
   ]
  },
  {
   "cell_type": "code",
   "execution_count": 11,
   "metadata": {},
   "outputs": [
    {
     "data": {
      "text/plain": [
       "pyspark.sql.dataframe.DataFrame"
      ]
     },
     "execution_count": 11,
     "metadata": {},
     "output_type": "execute_result"
    }
   ],
   "source": [
    "type(df)"
   ]
  },
  {
   "cell_type": "code",
   "execution_count": 12,
   "metadata": {},
   "outputs": [
    {
     "data": {
      "text/plain": [
       "[Row(id='1478885309626544130', conversation_id='1478884437991608323', created_at='2022-01-05 18:25:08 CST', date='2022-01-05', time='18:25:08', timezone='-0600', user_id='1373081665916915714', username='pipehennessy', name='CJ Stroud Heisman', place=None, tweet='@LegendOfWinning Nigga fat talking about nba players', language='en', mentions='[]', urls='[]', photos='[]', replies_count='0', retweets_count='0', likes_count='0', hashtags='[]', cashtags='[]', link='https://twitter.com/PipeHennessy/status/1478885309626544130', retweet='False', quote_url=None, video='0', thumbnail=None, near=None, geo=None, source=None, user_rt_id=None, user_rt=None, retweet_id=None, reply_to=\"[{'screen_name': 'LegendOfWinning', 'name': 'LegendOfWinning', 'id': '1642136329'}]\", retweet_date=None, translate=None, trans_src=None, trans_dest=None),\n",
       " Row(id='1478885303704342528', conversation_id='1478885303704342528', created_at='2022-01-05 18:25:07 CST', date='2022-01-05', time='18:25:07', timezone='-0600', user_id='834634229048815616', username='oceanroi', name='OCEAN DFS', place=None, tweet='Desmond Bane (quad) doubtful Thursday.    #NBA #DFS    https://t.co/9c3GLd34WM', language='en', mentions='[]', urls=\"['https://ift.tt/3pqSgtI']\", photos='[]', replies_count='0', retweets_count='0', likes_count='0', hashtags=\"['nba', 'dfs']\", cashtags='[]', link='https://twitter.com/OceanROI/status/1478885303704342528', retweet='False', quote_url=None, video='0', thumbnail=None, near=None, geo=None, source=None, user_rt_id=None, user_rt=None, retweet_id=None, reply_to='[]', retweet_date=None, translate=None, trans_src=None, trans_dest=None)]"
      ]
     },
     "execution_count": 12,
     "metadata": {},
     "output_type": "execute_result"
    }
   ],
   "source": [
    "df.head(2)"
   ]
  },
  {
   "cell_type": "code",
   "execution_count": 13,
   "metadata": {},
   "outputs": [
    {
     "name": "stdout",
     "output_type": "stream",
     "text": [
      "root\n",
      " |-- id: string (nullable = true)\n",
      " |-- conversation_id: string (nullable = true)\n",
      " |-- created_at: string (nullable = true)\n",
      " |-- date: string (nullable = true)\n",
      " |-- time: string (nullable = true)\n",
      " |-- timezone: string (nullable = true)\n",
      " |-- user_id: string (nullable = true)\n",
      " |-- username: string (nullable = true)\n",
      " |-- name: string (nullable = true)\n",
      " |-- place: string (nullable = true)\n",
      " |-- tweet: string (nullable = true)\n",
      " |-- language: string (nullable = true)\n",
      " |-- mentions: string (nullable = true)\n",
      " |-- urls: string (nullable = true)\n",
      " |-- photos: string (nullable = true)\n",
      " |-- replies_count: string (nullable = true)\n",
      " |-- retweets_count: string (nullable = true)\n",
      " |-- likes_count: string (nullable = true)\n",
      " |-- hashtags: string (nullable = true)\n",
      " |-- cashtags: string (nullable = true)\n",
      " |-- link: string (nullable = true)\n",
      " |-- retweet: string (nullable = true)\n",
      " |-- quote_url: string (nullable = true)\n",
      " |-- video: string (nullable = true)\n",
      " |-- thumbnail: string (nullable = true)\n",
      " |-- near: string (nullable = true)\n",
      " |-- geo: string (nullable = true)\n",
      " |-- source: string (nullable = true)\n",
      " |-- user_rt_id: string (nullable = true)\n",
      " |-- user_rt: string (nullable = true)\n",
      " |-- retweet_id: string (nullable = true)\n",
      " |-- reply_to: string (nullable = true)\n",
      " |-- retweet_date: string (nullable = true)\n",
      " |-- translate: string (nullable = true)\n",
      " |-- trans_src: string (nullable = true)\n",
      " |-- trans_dest: string (nullable = true)\n",
      "\n"
     ]
    }
   ],
   "source": [
    "df.printSchema()"
   ]
  },
  {
   "cell_type": "code",
   "execution_count": 14,
   "metadata": {},
   "outputs": [
    {
     "data": {
      "text/plain": [
       "['id',\n",
       " 'conversation_id',\n",
       " 'created_at',\n",
       " 'date',\n",
       " 'time',\n",
       " 'timezone',\n",
       " 'user_id',\n",
       " 'username',\n",
       " 'name',\n",
       " 'place',\n",
       " 'tweet',\n",
       " 'language',\n",
       " 'mentions',\n",
       " 'urls',\n",
       " 'photos',\n",
       " 'replies_count',\n",
       " 'retweets_count',\n",
       " 'likes_count',\n",
       " 'hashtags',\n",
       " 'cashtags',\n",
       " 'link',\n",
       " 'retweet',\n",
       " 'quote_url',\n",
       " 'video',\n",
       " 'thumbnail',\n",
       " 'near',\n",
       " 'geo',\n",
       " 'source',\n",
       " 'user_rt_id',\n",
       " 'user_rt',\n",
       " 'retweet_id',\n",
       " 'reply_to',\n",
       " 'retweet_date',\n",
       " 'translate',\n",
       " 'trans_src',\n",
       " 'trans_dest']"
      ]
     },
     "execution_count": 14,
     "metadata": {},
     "output_type": "execute_result"
    }
   ],
   "source": [
    "df.columns"
   ]
  },
  {
   "cell_type": "code",
   "execution_count": 17,
   "metadata": {},
   "outputs": [
    {
     "name": "stdout",
     "output_type": "stream",
     "text": [
      "+----------------------------------+\n",
      "|                             tweet|\n",
      "+----------------------------------+\n",
      "|              @LegendOfWinning ...|\n",
      "|              Desmond Bane (qua...|\n",
      "|               https://t.co/oEX...|\n",
      "|               https://t.co/s3z...|\n",
      "|              @PauladaJr Tinha ...|\n",
      "|              \"Beal and Christi...|\n",
      "|              10.4.2019 - Last ...|\n",
      "|【告知】私の発行するNBAメルマガ...|\n",
      "|              NBA Leader: 27.4 ...|\n",
      "|              @DirtyJerz32 @OSU...|\n",
      "|              @E_Pistons_Pod At...|\n",
      "|              Denver Nuggets vs...|\n",
      "|              \"nobody:  NBA com...|\n",
      "|              From unknown to u...|\n",
      "|              #ThunderUp has co...|\n",
      "|              @BarreroCR Gran n...|\n",
      "|              Superrrrrrrrrr ch...|\n",
      "|              Wow crybaby @Joel...|\n",
      "|              Minnesota Timberw...|\n",
      "|              CM – Prédictions ...|\n",
      "+----------------------------------+\n",
      "only showing top 20 rows\n",
      "\n"
     ]
    }
   ],
   "source": [
    "df.select('tweet').show()\n",
    "# to select 1 columns"
   ]
  },
  {
   "cell_type": "code",
   "execution_count": 18,
   "metadata": {},
   "outputs": [
    {
     "name": "stdout",
     "output_type": "stream",
     "text": [
      "+---------------+----------------------------------+\n",
      "|       username|                             tweet|\n",
      "+---------------+----------------------------------+\n",
      "|   pipehennessy|              @LegendOfWinning ...|\n",
      "|       oceanroi|              Desmond Bane (qua...|\n",
      "|   hoops227_nfl|               https://t.co/oEX...|\n",
      "|   hoops227_nfl|               https://t.co/s3z...|\n",
      "|     nicksophfe|              @PauladaJr Tinha ...|\n",
      "|    thefocus_tv|              \"Beal and Christi...|\n",
      "|         nba_de|              10.4.2019 - Last ...|\n",
      "|    jmac2312012|【告知】私の発行するNBAメルマガ...|\n",
      "|   hoops227_nfl|              NBA Leader: 27.4 ...|\n",
      "|   extremegamer|              @DirtyJerz32 @OSU...|\n",
      "| mrstinkfingers|              @E_Pistons_Pod At...|\n",
      "|     sediokapor|              Denver Nuggets vs...|\n",
      "|       jahsiri_|              \"nobody:  NBA com...|\n",
      "|  ballysportssw|              From unknown to u...|\n",
      "|         _tjkc_|              #ThunderUp has co...|\n",
      "|americanscreen1|              @BarreroCR Gran n...|\n",
      "|shagsportscards|              Superrrrrrrrrr ch...|\n",
      "|  patriotsway71|              Wow crybaby @Joel...|\n",
      "|     sediokapor|              Minnesota Timberw...|\n",
      "|    cameroonmag|              CM – Prédictions ...|\n",
      "+---------------+----------------------------------+\n",
      "only showing top 20 rows\n",
      "\n"
     ]
    }
   ],
   "source": [
    "df.select(['username', 'tweet']).show()"
   ]
  },
  {
   "cell_type": "code",
   "execution_count": 19,
   "metadata": {},
   "outputs": [
    {
     "data": {
      "text/plain": [
       "[('id', 'string'),\n",
       " ('conversation_id', 'string'),\n",
       " ('created_at', 'string'),\n",
       " ('date', 'string'),\n",
       " ('time', 'string'),\n",
       " ('timezone', 'string'),\n",
       " ('user_id', 'string'),\n",
       " ('username', 'string'),\n",
       " ('name', 'string'),\n",
       " ('place', 'string'),\n",
       " ('tweet', 'string'),\n",
       " ('language', 'string'),\n",
       " ('mentions', 'string'),\n",
       " ('urls', 'string'),\n",
       " ('photos', 'string'),\n",
       " ('replies_count', 'string'),\n",
       " ('retweets_count', 'string'),\n",
       " ('likes_count', 'string'),\n",
       " ('hashtags', 'string'),\n",
       " ('cashtags', 'string'),\n",
       " ('link', 'string'),\n",
       " ('retweet', 'string'),\n",
       " ('quote_url', 'string'),\n",
       " ('video', 'string'),\n",
       " ('thumbnail', 'string'),\n",
       " ('near', 'string'),\n",
       " ('geo', 'string'),\n",
       " ('source', 'string'),\n",
       " ('user_rt_id', 'string'),\n",
       " ('user_rt', 'string'),\n",
       " ('retweet_id', 'string'),\n",
       " ('reply_to', 'string'),\n",
       " ('retweet_date', 'string'),\n",
       " ('translate', 'string'),\n",
       " ('trans_src', 'string'),\n",
       " ('trans_dest', 'string')]"
      ]
     },
     "execution_count": 19,
     "metadata": {},
     "output_type": "execute_result"
    }
   ],
   "source": [
    "df.dtypes"
   ]
  },
  {
   "cell_type": "code",
   "execution_count": 20,
   "metadata": {},
   "outputs": [
    {
     "name": "stderr",
     "output_type": "stream",
     "text": [
      "[Stage 12:>                                                         (0 + 3) / 3]\r"
     ]
    },
    {
     "name": "stdout",
     "output_type": "stream",
     "text": [
      "+-------+--------------------+--------------------+--------------------+----------+--------+--------+--------------------+----------+------------------+--------------------+--------------------+------------------+--------+--------------------+-------+--------------------+------------------+------------------+--------------------+--------------------+--------------------+--------------------+--------------------+--------------------+--------------------+--------------------+--------------------+--------------------+--------------------+-------+--------------------+--------------------+--------------------+--------------------+--------------------+--------------------+\n",
      "|summary|                  id|     conversation_id|          created_at|      date|    time|timezone|             user_id|  username|              name|               place|               tweet|          language|mentions|                urls| photos|       replies_count|    retweets_count|       likes_count|            hashtags|            cashtags|                link|             retweet|           quote_url|               video|           thumbnail|                near|                 geo|              source|          user_rt_id|user_rt|          retweet_id|            reply_to|        retweet_date|           translate|           trans_src|          trans_dest|\n",
      "+-------+--------------------+--------------------+--------------------+----------+--------+--------+--------------------+----------+------------------+--------------------+--------------------+------------------+--------+--------------------+-------+--------------------+------------------+------------------+--------------------+--------------------+--------------------+--------------------+--------------------+--------------------+--------------------+--------------------+--------------------+--------------------+--------------------+-------+--------------------+--------------------+--------------------+--------------------+--------------------+--------------------+\n",
      "|  count|               22598|               22598|               22598|     22598|   22598|   22598|               22598|     22598|             22598|                   9|               22597|             22596|   22596|               22596|  22596|               22596|             22596|             22596|               22596|               22596|               22596|               22596|                1745|               22514|                3628|                  56|                  70|                  29|                  20|      7|                  16|               22429|                 218|                  83|                 118|                  72|\n",
      "|   mean|1.479548666337930...|1.478619832853076...|                null|      null|    null|  -600.0|7.139384224365772...|      null| 300802.8157692308|                null|                null|1666.6666666666667|  2005.0|                null|   null|  0.3786905717598787|0.5337036214174627|3.6190053285968027|  3.7986577181208054|  0.8356164383561644|  0.7166666666666667|   3.888888888888889|                 0.0|  0.1546074628861843|  0.2608695652173913|0.058823529411764705|  0.1320754716981132|  1.8888888888888888|                 0.0|   null|                 0.0|                 0.0|                 0.0|                 1.0|                null|                null|\n",
      "| stddev|1.135911443443808...|2.673619214022722...|                null|      null|    null|     0.0|6.301733534458828...|      null|1525031.7278853066|                null|                null|  816.496580927726|     0.0|                null|   null|   5.811696358611836|11.909781813827065| 76.62159155172117|   29.36397403552657|  3.1491343547347217|   2.630277852608143|   9.333333333333334|                 0.0|  0.3615381342287312|  0.5107539184552492| 0.24253562503633297|  0.3418128057789596|   4.935697631653616|                 0.0|   null|                 0.0|                 0.0|                 0.0|                 0.0|                null|                null|\n",
      "|    min| 1478869939712790530| 1083904651945275393|2022-01-05 17:24:...|2022-01-05|09:34:59|   -0600| 1000221248801198081|007deeezyy|         ! Famouzz|           Maryland\"| https://t.co/AQJ...|              #NFL|    #NBA| &amp; #NHL teams...| Future| 'name': \"\"de'aar...| 'id': '19537303'}|         P. Pierce| 'name': \"\"denver...| 'id': '142555644...|         N. Thurmond|      'name': 'c360'| 'id': '107268594...|           J. Worthy|             C. Bosh|           G. Hill.\"|                   0|                   0|                   0|     []|                   0|\"[{'screen_name':...| 'id': '100019253...| 'id': '140278980...| 'name': \"\"Big Te...| 'id': '1262516059'}|\n",
      "|    max| 1482445881144188928|  980836440484532224|2022-01-15 14:13:...|2022-01-15|20:24:30|   -0600|  998912105737801728|    zzodex|                🪐|{'type': 'Point',...|🥺 His little nos...|                zh|      pt|                  es|     pt|                  en|                en|                []|                  []|                  []|https://twitter.c...|https://twitter.c...|https://twitter.c...|https://twitter.c...|https://twitter.c...|https://twitter.c...|https://pbs.twimg...|https://twitter.c...|https://pbs.twimg...|     []|https://twitter.c...|[{'screen_name': ...|[{'screen_name': ...|[{'screen_name': ...|https://pbs.twimg...|https://twitter.c...|\n",
      "+-------+--------------------+--------------------+--------------------+----------+--------+--------+--------------------+----------+------------------+--------------------+--------------------+------------------+--------+--------------------+-------+--------------------+------------------+------------------+--------------------+--------------------+--------------------+--------------------+--------------------+--------------------+--------------------+--------------------+--------------------+--------------------+--------------------+-------+--------------------+--------------------+--------------------+--------------------+--------------------+--------------------+\n",
      "\n"
     ]
    },
    {
     "name": "stderr",
     "output_type": "stream",
     "text": [
      "                                                                                \r"
     ]
    }
   ],
   "source": [
    "df.describe().show()"
   ]
  },
  {
   "cell_type": "code",
   "execution_count": 37,
   "metadata": {},
   "outputs": [
    {
     "name": "stdout",
     "output_type": "stream",
     "text": [
      "+------+---+-------+\n",
      "|  name|age|age_new|\n",
      "+------+---+-------+\n",
      "| jacob| 24|   26.0|\n",
      "|  otis| 15|   17.0|\n",
      "|buster| 13|   15.0|\n",
      "+------+---+-------+\n",
      "\n"
     ]
    }
   ],
   "source": [
    "df2 = df.withColumn('age_new', df['age'] + 2)\n",
    "df2.show()"
   ]
  },
  {
   "cell_type": "code",
   "execution_count": 38,
   "metadata": {},
   "outputs": [],
   "source": [
    "df2 = df2.drop('age_new')"
   ]
  },
  {
   "cell_type": "code",
   "execution_count": 40,
   "metadata": {},
   "outputs": [],
   "source": [
    "df3 = df2.withColumnRenamed('age', 'age2')"
   ]
  },
  {
   "cell_type": "code",
   "execution_count": 56,
   "metadata": {},
   "outputs": [],
   "source": [
    "# df2 = df.na.drop(how = 'any') # any or all, will drop na records aka the entire row.\n",
    "df2 = df.na.drop(how = 'any', thresh = 2) "
   ]
  },
  {
   "cell_type": "code",
   "execution_count": 59,
   "metadata": {},
   "outputs": [
    {
     "name": "stdout",
     "output_type": "stream",
     "text": [
      "+------+----+\n",
      "|  name| age|\n",
      "+------+----+\n",
      "| jacob|  24|\n",
      "|  otis|  15|\n",
      "|buster|null|\n",
      "+------+----+\n",
      "\n"
     ]
    }
   ],
   "source": [
    "df2 = df\n",
    "df2.show()"
   ]
  },
  {
   "cell_type": "code",
   "execution_count": 23,
   "metadata": {},
   "outputs": [
    {
     "data": {
      "text/plain": [
       "DataFrame[a: bigint, b: double, c: string, d: date, e: timestamp]"
      ]
     },
     "execution_count": 23,
     "metadata": {},
     "output_type": "execute_result"
    }
   ],
   "source": [
    "###### raw dataframe creation\n",
    "df = spark.createDataFrame([\n",
    "    Row(a=1, b=2., c='string1', d=date(2000, 1, 1), e=datetime(2000, 1, 1, 12, 0)),\n",
    "    Row(a=2, b=3., c='string2', d=date(2000, 2, 1), e=datetime(2000, 1, 2, 12, 0)),\n",
    "    Row(a=4, b=5., c='string3', d=date(2000, 3, 1), e=datetime(2000, 1, 3, 12, 0))\n",
    "])\n",
    "df"
   ]
  },
  {
   "cell_type": "code",
   "execution_count": 24,
   "metadata": {},
   "outputs": [
    {
     "data": {
      "text/plain": [
       "DataFrame[a: bigint, b: double, c: string, d: date, e: timestamp]"
      ]
     },
     "execution_count": 24,
     "metadata": {},
     "output_type": "execute_result"
    }
   ],
   "source": [
    "###### raw dataframe creation w/ schema provided\n",
    "df = spark.createDataFrame([\n",
    "    (1, 2., 'string1', date(2000, 1, 1), datetime(2000, 1, 1, 12, 0)),\n",
    "    (2, 3., 'string2', date(2000, 2, 1), datetime(2000, 1, 2, 12, 0)),\n",
    "    (3, 4., 'string3', date(2000, 3, 1), datetime(2000, 1, 3, 12, 0))\n",
    "], schema='a long, b double, c string, d date, e timestamp')\n",
    "df"
   ]
  },
  {
   "cell_type": "code",
   "execution_count": 25,
   "metadata": {},
   "outputs": [
    {
     "data": {
      "text/plain": [
       "DataFrame[a: bigint, b: double, c: string, d: date, e: timestamp]"
      ]
     },
     "execution_count": 25,
     "metadata": {},
     "output_type": "execute_result"
    }
   ],
   "source": [
    "# create spark dataframe from pandas dataframe\n",
    "pandas_df = pd.DataFrame({\n",
    "    'a': [1, 2, 3],\n",
    "    'b': [2., 3., 4.],\n",
    "    'c': ['string1', 'string2', 'string3'],\n",
    "    'd': [date(2000, 1, 1), date(2000, 2, 1), date(2000, 3, 1)],\n",
    "    'e': [datetime(2000, 1, 1, 12, 0), datetime(2000, 1, 2, 12, 0), datetime(2000, 1, 3, 12, 0)]\n",
    "})\n",
    "df = spark.createDataFrame(pandas_df)\n",
    "df"
   ]
  },
  {
   "cell_type": "code",
   "execution_count": 26,
   "metadata": {},
   "outputs": [
    {
     "data": {
      "text/plain": [
       "DataFrame[a: bigint, b: double, c: string, d: date, e: timestamp]"
      ]
     },
     "execution_count": 26,
     "metadata": {},
     "output_type": "execute_result"
    }
   ],
   "source": [
    "rdd = spark.sparkContext.parallelize([\n",
    "    (1, 2., 'string1', date(2000, 1, 1), datetime(2000, 1, 1, 12, 0)),\n",
    "    (2, 3., 'string2', date(2000, 2, 1), datetime(2000, 1, 2, 12, 0)),\n",
    "    (3, 4., 'string3', date(2000, 3, 1), datetime(2000, 1, 3, 12, 0))\n",
    "])\n",
    "df = spark.createDataFrame(rdd, schema=['a', 'b', 'c', 'd', 'e'])\n",
    "df"
   ]
  },
  {
   "cell_type": "markdown",
   "metadata": {},
   "source": []
  },
  {
   "cell_type": "code",
   "execution_count": 27,
   "metadata": {},
   "outputs": [
    {
     "name": "stdout",
     "output_type": "stream",
     "text": [
      "+---+---+-------+----------+-------------------+\n",
      "|  a|  b|      c|         d|                  e|\n",
      "+---+---+-------+----------+-------------------+\n",
      "|  1|2.0|string1|2000-01-01|2000-01-01 12:00:00|\n",
      "|  2|3.0|string2|2000-02-01|2000-01-02 12:00:00|\n",
      "|  3|4.0|string3|2000-03-01|2000-01-03 12:00:00|\n",
      "+---+---+-------+----------+-------------------+\n",
      "\n",
      "root\n",
      " |-- a: long (nullable = true)\n",
      " |-- b: double (nullable = true)\n",
      " |-- c: string (nullable = true)\n",
      " |-- d: date (nullable = true)\n",
      " |-- e: timestamp (nullable = true)\n",
      "\n"
     ]
    }
   ],
   "source": [
    "# All DataFrames above result same.\n",
    "df.show()\n",
    "df.printSchema()"
   ]
  },
  {
   "cell_type": "code",
   "execution_count": 28,
   "metadata": {},
   "outputs": [
    {
     "name": "stdout",
     "output_type": "stream",
     "text": [
      "+---+---+-------+----------+-------------------+\n",
      "|  a|  b|      c|         d|                  e|\n",
      "+---+---+-------+----------+-------------------+\n",
      "|  1|2.0|string1|2000-01-01|2000-01-01 12:00:00|\n",
      "+---+---+-------+----------+-------------------+\n",
      "only showing top 1 row\n",
      "\n"
     ]
    }
   ],
   "source": [
    "df.show(1)"
   ]
  },
  {
   "cell_type": "code",
   "execution_count": 29,
   "metadata": {},
   "outputs": [
    {
     "data": {
      "text/html": [
       "<table border='1'>\n",
       "<tr><th>a</th><th>b</th><th>c</th><th>d</th><th>e</th></tr>\n",
       "<tr><td>1</td><td>2.0</td><td>string1</td><td>2000-01-01</td><td>2000-01-01 12:00:00</td></tr>\n",
       "<tr><td>2</td><td>3.0</td><td>string2</td><td>2000-02-01</td><td>2000-01-02 12:00:00</td></tr>\n",
       "<tr><td>3</td><td>4.0</td><td>string3</td><td>2000-03-01</td><td>2000-01-03 12:00:00</td></tr>\n",
       "</table>\n"
      ],
      "text/plain": [
       "DataFrame[a: bigint, b: double, c: string, d: date, e: timestamp]"
      ]
     },
     "execution_count": 29,
     "metadata": {},
     "output_type": "execute_result"
    }
   ],
   "source": [
    "spark.conf.set('spark.sql.repl.eagerEval.enabled', True) # use this in jupyter notebooks so you can fucking see shit.\n",
    "df"
   ]
  },
  {
   "cell_type": "code",
   "execution_count": 30,
   "metadata": {},
   "outputs": [
    {
     "name": "stdout",
     "output_type": "stream",
     "text": [
      "-RECORD 0------------------\n",
      " a   | 1                   \n",
      " b   | 2.0                 \n",
      " c   | string1             \n",
      " d   | 2000-01-01          \n",
      " e   | 2000-01-01 12:00:00 \n",
      "only showing top 1 row\n",
      "\n"
     ]
    }
   ],
   "source": [
    "df.show(1, vertical=True)"
   ]
  },
  {
   "cell_type": "code",
   "execution_count": 31,
   "metadata": {},
   "outputs": [
    {
     "name": "stdout",
     "output_type": "stream",
     "text": [
      "+---+---+-------+----------+-------------------+\n",
      "|  a|  b|      c|         d|                  e|\n",
      "+---+---+-------+----------+-------------------+\n",
      "|  1|2.0|string1|2000-01-01|2000-01-01 12:00:00|\n",
      "+---+---+-------+----------+-------------------+\n",
      "only showing top 1 row\n",
      "\n"
     ]
    }
   ],
   "source": [
    "df.show(1)"
   ]
  },
  {
   "cell_type": "code",
   "execution_count": 35,
   "metadata": {},
   "outputs": [
    {
     "data": {
      "text/plain": [
       "[Row(a=1, b=2.0, c='string1', d=datetime.date(2000, 1, 1), e=datetime.datetime(2000, 1, 1, 12, 0)),\n",
       " Row(a=2, b=3.0, c='string2', d=datetime.date(2000, 2, 1), e=datetime.datetime(2000, 1, 2, 12, 0)),\n",
       " Row(a=3, b=4.0, c='string3', d=datetime.date(2000, 3, 1), e=datetime.datetime(2000, 1, 3, 12, 0))]"
      ]
     },
     "execution_count": 35,
     "metadata": {},
     "output_type": "execute_result"
    }
   ],
   "source": [
    "df.take(5)"
   ]
  },
  {
   "cell_type": "code",
   "execution_count": 36,
   "metadata": {},
   "outputs": [
    {
     "data": {
      "text/plain": [
       "['a', 'b', 'c', 'd', 'e']"
      ]
     },
     "execution_count": 36,
     "metadata": {},
     "output_type": "execute_result"
    }
   ],
   "source": [
    "df.columns"
   ]
  },
  {
   "cell_type": "code",
   "execution_count": 37,
   "metadata": {},
   "outputs": [
    {
     "name": "stdout",
     "output_type": "stream",
     "text": [
      "root\n",
      " |-- a: long (nullable = true)\n",
      " |-- b: double (nullable = true)\n",
      " |-- c: string (nullable = true)\n",
      " |-- d: date (nullable = true)\n",
      " |-- e: timestamp (nullable = true)\n",
      "\n"
     ]
    }
   ],
   "source": [
    "df.printSchema()"
   ]
  },
  {
   "cell_type": "code",
   "execution_count": 38,
   "metadata": {},
   "outputs": [
    {
     "name": "stdout",
     "output_type": "stream",
     "text": [
      "+-------+---+---+-------+\n",
      "|summary|  a|  b|      c|\n",
      "+-------+---+---+-------+\n",
      "|  count|  3|  3|      3|\n",
      "|   mean|2.0|3.0|   null|\n",
      "| stddev|1.0|1.0|   null|\n",
      "|    min|  1|2.0|string1|\n",
      "|    max|  3|4.0|string3|\n",
      "+-------+---+---+-------+\n",
      "\n"
     ]
    }
   ],
   "source": [
    "df.select(\"a\", \"b\", \"c\").describe().show()"
   ]
  },
  {
   "cell_type": "code",
   "execution_count": 40,
   "metadata": {},
   "outputs": [],
   "source": [
    "df2 = df.collect()\n",
    "# collect() puts it in memory, cant work if you obv have too much data.\n",
    "# use take(5) or tail(5) to get first 5 or last 5 to just see whats goin on \n",
    "df2 = df.take(5)"
   ]
  },
  {
   "cell_type": "code",
   "execution_count": 41,
   "metadata": {},
   "outputs": [],
   "source": [
    "df_pandas = df.toPandas()  # turns it back into a pandas dataframe."
   ]
  },
  {
   "cell_type": "code",
   "execution_count": 42,
   "metadata": {},
   "outputs": [
    {
     "name": "stdout",
     "output_type": "stream",
     "text": [
      "+---+---+-------+----------+-------------------+\n",
      "|  a|  b|      c|         d|                  e|\n",
      "+---+---+-------+----------+-------------------+\n",
      "|  1|2.0|string1|2000-01-01|2000-01-01 12:00:00|\n",
      "+---+---+-------+----------+-------------------+\n",
      "\n"
     ]
    }
   ],
   "source": [
    "df.filter(df.a == 1).show()"
   ]
  },
  {
   "cell_type": "code",
   "execution_count": 47,
   "metadata": {},
   "outputs": [
    {
     "name": "stdout",
     "output_type": "stream",
     "text": [
      "+------------------+\n",
      "|pandas_plus_one(a)|\n",
      "+------------------+\n",
      "|                 2|\n",
      "|                 3|\n",
      "|                 4|\n",
      "+------------------+\n",
      "\n"
     ]
    }
   ],
   "source": [
    "from pyspark.sql.functions import pandas_udf\n",
    "\n",
    "@pandas_udf('long')\n",
    "def pandas_plus_one(series: pd.Series) -> pd.Series:\n",
    "    # Simply plus one by using pandas Series.\n",
    "    return series + 1\n",
    "\n",
    "df.select(pandas_plus_one(df.a)).show()"
   ]
  },
  {
   "cell_type": "code",
   "execution_count": 48,
   "metadata": {},
   "outputs": [
    {
     "name": "stdout",
     "output_type": "stream",
     "text": [
      "+---+---+-------+----------+-------------------+\n",
      "|  a|  b|      c|         d|                  e|\n",
      "+---+---+-------+----------+-------------------+\n",
      "|  1|2.0|string1|2000-01-01|2000-01-01 12:00:00|\n",
      "+---+---+-------+----------+-------------------+\n",
      "\n"
     ]
    }
   ],
   "source": [
    "def pandas_filter_func(iterator):\n",
    "    for pandas_df in iterator:\n",
    "        yield pandas_df[pandas_df.a == 1]\n",
    "\n",
    "df.mapInPandas(pandas_filter_func, schema=df.schema).show()"
   ]
  },
  {
   "cell_type": "code",
   "execution_count": 49,
   "metadata": {},
   "outputs": [
    {
     "name": "stdout",
     "output_type": "stream",
     "text": [
      "+-----+------+---+---+\n",
      "|color| fruit| v1| v2|\n",
      "+-----+------+---+---+\n",
      "|  red|banana|  1| 10|\n",
      "| blue|banana|  2| 20|\n",
      "|  red|carrot|  3| 30|\n",
      "| blue| grape|  4| 40|\n",
      "|  red|carrot|  5| 50|\n",
      "|black|carrot|  6| 60|\n",
      "|  red|banana|  7| 70|\n",
      "|  red| grape|  8| 80|\n",
      "+-----+------+---+---+\n",
      "\n"
     ]
    }
   ],
   "source": [
    "# group by stuff\n",
    "df = spark.createDataFrame([\n",
    "    ['red', 'banana', 1, 10], ['blue', 'banana', 2, 20], ['red', 'carrot', 3, 30],\n",
    "    ['blue', 'grape', 4, 40], ['red', 'carrot', 5, 50], ['black', 'carrot', 6, 60],\n",
    "    ['red', 'banana', 7, 70], ['red', 'grape', 8, 80]], schema=['color', 'fruit', 'v1', 'v2'])\n",
    "df.show()"
   ]
  },
  {
   "cell_type": "code",
   "execution_count": 50,
   "metadata": {},
   "outputs": [
    {
     "name": "stdout",
     "output_type": "stream",
     "text": [
      "+-----+-------+-------+\n",
      "|color|avg(v1)|avg(v2)|\n",
      "+-----+-------+-------+\n",
      "|  red|    4.8|   48.0|\n",
      "| blue|    3.0|   30.0|\n",
      "|black|    6.0|   60.0|\n",
      "+-----+-------+-------+\n",
      "\n"
     ]
    }
   ],
   "source": [
    "df.groupby('color').avg().show()"
   ]
  },
  {
   "cell_type": "code",
   "execution_count": 51,
   "metadata": {},
   "outputs": [
    {
     "name": "stdout",
     "output_type": "stream",
     "text": [
      "+-----+------+---+---+\n",
      "|color| fruit| v1| v2|\n",
      "+-----+------+---+---+\n",
      "|black|carrot|  0| 60|\n",
      "| blue|banana| -1| 20|\n",
      "| blue| grape|  1| 40|\n",
      "|  red|banana| -3| 10|\n",
      "|  red|carrot| -1| 30|\n",
      "|  red|carrot|  0| 50|\n",
      "|  red|banana|  2| 70|\n",
      "|  red| grape|  3| 80|\n",
      "+-----+------+---+---+\n",
      "\n"
     ]
    }
   ],
   "source": [
    "def plus_mean(pandas_df):\n",
    "    return pandas_df.assign(v1=pandas_df.v1 - pandas_df.v1.mean())\n",
    "\n",
    "df.groupby('color').applyInPandas(plus_mean, schema=df.schema).show()"
   ]
  },
  {
   "cell_type": "code",
   "execution_count": 52,
   "metadata": {},
   "outputs": [
    {
     "name": "stdout",
     "output_type": "stream",
     "text": [
      "+--------+---+---+---+\n",
      "|    time| id| v1| v2|\n",
      "+--------+---+---+---+\n",
      "|20000101|  1|1.0|  x|\n",
      "|20000102|  1|3.0|  x|\n",
      "|20000101|  2|2.0|  y|\n",
      "|20000102|  2|4.0|  y|\n",
      "+--------+---+---+---+\n",
      "\n"
     ]
    }
   ],
   "source": [
    "df1 = spark.createDataFrame(\n",
    "    [(20000101, 1, 1.0), (20000101, 2, 2.0), (20000102, 1, 3.0), (20000102, 2, 4.0)],\n",
    "    ('time', 'id', 'v1'))\n",
    "\n",
    "df2 = spark.createDataFrame(\n",
    "    [(20000101, 1, 'x'), (20000101, 2, 'y')],\n",
    "    ('time', 'id', 'v2'))\n",
    "\n",
    "def asof_join(l, r):\n",
    "    return pd.merge_asof(l, r, on='time', by='id')\n",
    "\n",
    "df1.groupby('id').cogroup(df2.groupby('id')).applyInPandas(\n",
    "    asof_join, schema='time int, id int, v1 double, v2 string').show()"
   ]
  },
  {
   "cell_type": "code",
   "execution_count": 53,
   "metadata": {},
   "outputs": [
    {
     "name": "stdout",
     "output_type": "stream",
     "text": [
      "+-----+------+---+---+\n",
      "|color| fruit| v1| v2|\n",
      "+-----+------+---+---+\n",
      "|black|carrot|  6| 60|\n",
      "| blue|banana|  2| 20|\n",
      "|  red|carrot|  5| 50|\n",
      "|  red|banana|  1| 10|\n",
      "|  red|carrot|  3| 30|\n",
      "| blue| grape|  4| 40|\n",
      "|  red|banana|  7| 70|\n",
      "|  red| grape|  8| 80|\n",
      "+-----+------+---+---+\n",
      "\n"
     ]
    }
   ],
   "source": [
    "df.write.csv('foo.csv', header=True)\n",
    "spark.read.csv('foo.csv', header=True).show()"
   ]
  },
  {
   "cell_type": "code",
   "execution_count": 54,
   "metadata": {},
   "outputs": [
    {
     "name": "stderr",
     "output_type": "stream",
     "text": [
      "22/01/23 19:50:10 WARN MemoryManager: Total allocation exceeds 95.00% (906,992,014 bytes) of heap memory\n",
      "Scaling row group sizes to 96.54% for 7 writers\n",
      "22/01/23 19:50:10 WARN MemoryManager: Total allocation exceeds 95.00% (906,992,014 bytes) of heap memory\n",
      "Scaling row group sizes to 84.47% for 8 writers\n",
      "22/01/23 19:50:10 WARN MemoryManager: Total allocation exceeds 95.00% (906,992,014 bytes) of heap memory\n",
      "Scaling row group sizes to 75.08% for 9 writers\n",
      "22/01/23 19:50:10 WARN MemoryManager: Total allocation exceeds 95.00% (906,992,014 bytes) of heap memory\n",
      "Scaling row group sizes to 84.47% for 8 writers\n",
      "22/01/23 19:50:10 WARN MemoryManager: Total allocation exceeds 95.00% (906,992,014 bytes) of heap memory\n",
      "Scaling row group sizes to 96.54% for 7 writers\n"
     ]
    },
    {
     "name": "stdout",
     "output_type": "stream",
     "text": [
      "+-----+------+---+---+\n",
      "|color| fruit| v1| v2|\n",
      "+-----+------+---+---+\n",
      "|black|carrot|  6| 60|\n",
      "| blue|banana|  2| 20|\n",
      "|  red|banana|  7| 70|\n",
      "| blue| grape|  4| 40|\n",
      "|  red|carrot|  5| 50|\n",
      "|  red|carrot|  3| 30|\n",
      "|  red|banana|  1| 10|\n",
      "|  red| grape|  8| 80|\n",
      "+-----+------+---+---+\n",
      "\n"
     ]
    }
   ],
   "source": [
    "df.write.parquet('bar.parquet')\n",
    "spark.read.parquet('bar.parquet').show()"
   ]
  },
  {
   "cell_type": "code",
   "execution_count": 55,
   "metadata": {},
   "outputs": [
    {
     "name": "stdout",
     "output_type": "stream",
     "text": [
      "+--------+\n",
      "|count(1)|\n",
      "+--------+\n",
      "|       8|\n",
      "+--------+\n",
      "\n"
     ]
    }
   ],
   "source": [
    "df.createOrReplaceTempView(\"tableA\")\n",
    "spark.sql(\"SELECT count(*) from tableA\").show()"
   ]
  },
  {
   "cell_type": "code",
   "execution_count": 56,
   "metadata": {},
   "outputs": [
    {
     "name": "stdout",
     "output_type": "stream",
     "text": [
      "+-----------+\n",
      "|add_one(v1)|\n",
      "+-----------+\n",
      "|          2|\n",
      "|          3|\n",
      "|          4|\n",
      "|          5|\n",
      "|          6|\n",
      "|          7|\n",
      "|          8|\n",
      "|          9|\n",
      "+-----------+\n",
      "\n"
     ]
    }
   ],
   "source": [
    "@pandas_udf(\"integer\")\n",
    "def add_one(s: pd.Series) -> pd.Series:\n",
    "    return s + 1\n",
    "\n",
    "spark.udf.register(\"add_one\", add_one)\n",
    "spark.sql(\"SELECT add_one(v1) FROM tableA\").show()"
   ]
  },
  {
   "cell_type": "code",
   "execution_count": 57,
   "metadata": {},
   "outputs": [
    {
     "name": "stdout",
     "output_type": "stream",
     "text": [
      "+-----------+\n",
      "|add_one(v1)|\n",
      "+-----------+\n",
      "|          2|\n",
      "|          3|\n",
      "|          4|\n",
      "|          5|\n",
      "|          6|\n",
      "|          7|\n",
      "|          8|\n",
      "|          9|\n",
      "+-----------+\n",
      "\n",
      "+--------------+\n",
      "|(count(1) > 0)|\n",
      "+--------------+\n",
      "|          true|\n",
      "+--------------+\n",
      "\n"
     ]
    }
   ],
   "source": [
    "from pyspark.sql.functions import expr\n",
    "\n",
    "df.selectExpr('add_one(v1)').show()\n",
    "df.select(expr('count(*)') > 0).show()"
   ]
  }
 ],
 "metadata": {
  "interpreter": {
   "hash": "93d87aec9b4fd1bcf27c0a424f383372d98ca308b2ecd2482b3b93b80e453b15"
  },
  "kernelspec": {
   "display_name": "Python 3.8.10 64-bit ('pyspark_prac-QhYfwHaC': pipenv)",
   "language": "python",
   "name": "python3"
  },
  "language_info": {
   "codemirror_mode": {
    "name": "ipython",
    "version": 3
   },
   "file_extension": ".py",
   "mimetype": "text/x-python",
   "name": "python",
   "nbconvert_exporter": "python",
   "pygments_lexer": "ipython3",
   "version": "3.8.10"
  },
  "orig_nbformat": 4
 },
 "nbformat": 4,
 "nbformat_minor": 2
}
