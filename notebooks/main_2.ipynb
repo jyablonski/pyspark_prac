{
 "cells": [
  {
   "cell_type": "code",
   "execution_count": 1,
   "metadata": {},
   "outputs": [
    {
     "name": "stderr",
     "output_type": "stream",
     "text": [
      "21/12/05 10:51:50 WARN Utils: Your hostname, jacob-BigOtisLinux resolves to a loopback address: 127.0.1.1; using 192.168.50.142 instead (on interface enp6s0)\n",
      "21/12/05 10:51:50 WARN Utils: Set SPARK_LOCAL_IP if you need to bind to another address\n",
      "Using Spark's default log4j profile: org/apache/spark/log4j-defaults.properties\n",
      "Setting default log level to \"WARN\".\n",
      "To adjust logging level use sc.setLogLevel(newLevel). For SparkR, use setLogLevel(newLevel).\n",
      "21/12/05 10:51:50 WARN NativeCodeLoader: Unable to load native-hadoop library for your platform... using builtin-java classes where applicable\n"
     ]
    },
    {
     "data": {
      "text/html": [
       "\n",
       "            <div>\n",
       "                <p><b>SparkSession - in-memory</b></p>\n",
       "                \n",
       "        <div>\n",
       "            <p><b>SparkContext</b></p>\n",
       "\n",
       "            <p><a href=\"http://192.168.50.142:4040\">Spark UI</a></p>\n",
       "\n",
       "            <dl>\n",
       "              <dt>Version</dt>\n",
       "                <dd><code>v3.2.0</code></dd>\n",
       "              <dt>Master</dt>\n",
       "                <dd><code>local[*]</code></dd>\n",
       "              <dt>AppName</dt>\n",
       "                <dd><code>pyspark-shell</code></dd>\n",
       "            </dl>\n",
       "        </div>\n",
       "        \n",
       "            </div>\n",
       "        "
      ],
      "text/plain": [
       "<pyspark.sql.session.SparkSession at 0x7f10dd1a1be0>"
      ]
     },
     "execution_count": 1,
     "metadata": {},
     "output_type": "execute_result"
    }
   ],
   "source": [
    "from pyspark.sql import SparkSession\n",
    "spark = SparkSession.builder.master(\"local[*]\").getOrCreate()\n",
    "spark.conf.set(\"spark.sql.repl.eagerEval.enabled\", True) # Property used to format output tables better\n",
    "spark\n",
    "# https://jacobcelestine.com/knowledge_repo/colab_and_pyspark/"
   ]
  },
  {
   "cell_type": "code",
   "execution_count": 2,
   "metadata": {},
   "outputs": [
    {
     "name": "stdout",
     "output_type": "stream",
     "text": [
      "+--------------------+----+---------+------------+----------+------+------------+-----+------+\n",
      "|                 Car| MPG|Cylinders|Displacement|Horsepower|Weight|Acceleration|Model|Origin|\n",
      "+--------------------+----+---------+------------+----------+------+------------+-----+------+\n",
      "|Chevrolet Chevell...|18.0|        8|       307.0|     130.0| 3504.|        12.0|   70|    US|\n",
      "|   Buick Skylark 320|15.0|        8|       350.0|     165.0| 3693.|        11.5|   70|    US|\n",
      "|  Plymouth Satellite|18.0|        8|       318.0|     150.0| 3436.|        11.0|   70|    US|\n",
      "|       AMC Rebel SST|16.0|        8|       304.0|     150.0| 3433.|        12.0|   70|    US|\n",
      "|         Ford Torino|17.0|        8|       302.0|     140.0| 3449.|        10.5|   70|    US|\n",
      "+--------------------+----+---------+------------+----------+------+------------+-----+------+\n",
      "only showing top 5 rows\n",
      "\n"
     ]
    }
   ],
   "source": [
    "df = spark.read.csv('cars.csv', header=True, sep=\";\")\n",
    "df.show(5)"
   ]
  },
  {
   "cell_type": "code",
   "execution_count": 3,
   "metadata": {},
   "outputs": [
    {
     "data": {
      "text/html": [
       "<table border='1'>\n",
       "<tr><th>Car</th><th>MPG</th><th>Cylinders</th><th>Displacement</th><th>Horsepower</th><th>Weight</th><th>Acceleration</th><th>Model</th><th>Origin</th></tr>\n",
       "<tr><td>Chevrolet Chevell...</td><td>18.0</td><td>8</td><td>307.0</td><td>130.0</td><td>3504.</td><td>12.0</td><td>70</td><td>US</td></tr>\n",
       "<tr><td>Buick Skylark 320</td><td>15.0</td><td>8</td><td>350.0</td><td>165.0</td><td>3693.</td><td>11.5</td><td>70</td><td>US</td></tr>\n",
       "<tr><td>Plymouth Satellite</td><td>18.0</td><td>8</td><td>318.0</td><td>150.0</td><td>3436.</td><td>11.0</td><td>70</td><td>US</td></tr>\n",
       "<tr><td>AMC Rebel SST</td><td>16.0</td><td>8</td><td>304.0</td><td>150.0</td><td>3433.</td><td>12.0</td><td>70</td><td>US</td></tr>\n",
       "<tr><td>Ford Torino</td><td>17.0</td><td>8</td><td>302.0</td><td>140.0</td><td>3449.</td><td>10.5</td><td>70</td><td>US</td></tr>\n",
       "</table>\n"
      ],
      "text/plain": [
       "+--------------------+----+---------+------------+----------+------+------------+-----+------+\n",
       "|                 Car| MPG|Cylinders|Displacement|Horsepower|Weight|Acceleration|Model|Origin|\n",
       "+--------------------+----+---------+------------+----------+------+------------+-----+------+\n",
       "|Chevrolet Chevell...|18.0|        8|       307.0|     130.0| 3504.|        12.0|   70|    US|\n",
       "|   Buick Skylark 320|15.0|        8|       350.0|     165.0| 3693.|        11.5|   70|    US|\n",
       "|  Plymouth Satellite|18.0|        8|       318.0|     150.0| 3436.|        11.0|   70|    US|\n",
       "|       AMC Rebel SST|16.0|        8|       304.0|     150.0| 3433.|        12.0|   70|    US|\n",
       "|         Ford Torino|17.0|        8|       302.0|     140.0| 3449.|        10.5|   70|    US|\n",
       "+--------------------+----+---------+------------+----------+------+------------+-----+------+"
      ]
     },
     "execution_count": 3,
     "metadata": {},
     "output_type": "execute_result"
    }
   ],
   "source": [
    "df.limit(5)"
   ]
  },
  {
   "cell_type": "code",
   "execution_count": 4,
   "metadata": {},
   "outputs": [
    {
     "data": {
      "text/plain": [
       "['Car',\n",
       " 'MPG',\n",
       " 'Cylinders',\n",
       " 'Displacement',\n",
       " 'Horsepower',\n",
       " 'Weight',\n",
       " 'Acceleration',\n",
       " 'Model',\n",
       " 'Origin']"
      ]
     },
     "execution_count": 4,
     "metadata": {},
     "output_type": "execute_result"
    }
   ],
   "source": [
    "df.columns"
   ]
  },
  {
   "cell_type": "code",
   "execution_count": 5,
   "metadata": {},
   "outputs": [
    {
     "data": {
      "text/plain": [
       "[('Car', 'string'),\n",
       " ('MPG', 'string'),\n",
       " ('Cylinders', 'string'),\n",
       " ('Displacement', 'string'),\n",
       " ('Horsepower', 'string'),\n",
       " ('Weight', 'string'),\n",
       " ('Acceleration', 'string'),\n",
       " ('Model', 'string'),\n",
       " ('Origin', 'string')]"
      ]
     },
     "execution_count": 5,
     "metadata": {},
     "output_type": "execute_result"
    }
   ],
   "source": [
    "df.dtypes"
   ]
  },
  {
   "cell_type": "code",
   "execution_count": 6,
   "metadata": {},
   "outputs": [
    {
     "name": "stdout",
     "output_type": "stream",
     "text": [
      "root\n",
      " |-- Car: string (nullable = true)\n",
      " |-- MPG: string (nullable = true)\n",
      " |-- Cylinders: string (nullable = true)\n",
      " |-- Displacement: string (nullable = true)\n",
      " |-- Horsepower: string (nullable = true)\n",
      " |-- Weight: string (nullable = true)\n",
      " |-- Acceleration: string (nullable = true)\n",
      " |-- Model: string (nullable = true)\n",
      " |-- Origin: string (nullable = true)\n",
      "\n"
     ]
    }
   ],
   "source": [
    "df.printSchema()"
   ]
  },
  {
   "cell_type": "code",
   "execution_count": 7,
   "metadata": {},
   "outputs": [
    {
     "name": "stdout",
     "output_type": "stream",
     "text": [
      "root\n",
      " |-- Car: string (nullable = true)\n",
      " |-- MPG: double (nullable = true)\n",
      " |-- Cylinders: integer (nullable = true)\n",
      " |-- Displacement: double (nullable = true)\n",
      " |-- Horsepower: double (nullable = true)\n",
      " |-- Weight: decimal(4,0) (nullable = true)\n",
      " |-- Acceleration: double (nullable = true)\n",
      " |-- Model: integer (nullable = true)\n",
      " |-- Origin: string (nullable = true)\n",
      "\n"
     ]
    }
   ],
   "source": [
    "df = spark.read.csv('cars.csv', header=True, sep=\";\", inferSchema=True) # use this when loading in dfs\n",
    "df.printSchema()"
   ]
  },
  {
   "cell_type": "code",
   "execution_count": 8,
   "metadata": {},
   "outputs": [
    {
     "name": "stdout",
     "output_type": "stream",
     "text": [
      "Column<'Car'>\n",
      "********************\n",
      "+--------------------------------+\n",
      "|Car                             |\n",
      "+--------------------------------+\n",
      "|Chevrolet Chevelle Malibu       |\n",
      "|Buick Skylark 320               |\n",
      "|Plymouth Satellite              |\n",
      "|AMC Rebel SST                   |\n",
      "|Ford Torino                     |\n",
      "|Ford Galaxie 500                |\n",
      "|Chevrolet Impala                |\n",
      "|Plymouth Fury iii               |\n",
      "|Pontiac Catalina                |\n",
      "|AMC Ambassador DPL              |\n",
      "|Citroen DS-21 Pallas            |\n",
      "|Chevrolet Chevelle Concours (sw)|\n",
      "|Ford Torino (sw)                |\n",
      "|Plymouth Satellite (sw)         |\n",
      "|AMC Rebel SST (sw)              |\n",
      "|Dodge Challenger SE             |\n",
      "|Plymouth 'Cuda 340              |\n",
      "|Ford Mustang Boss 302           |\n",
      "|Chevrolet Monte Carlo           |\n",
      "|Buick Estate Wagon (sw)         |\n",
      "+--------------------------------+\n",
      "only showing top 20 rows\n",
      "\n"
     ]
    }
   ],
   "source": [
    "# 1st method\n",
    "# Column name is case sensitive in this usage\n",
    "print(df.Car)\n",
    "print(\"*\"*20)\n",
    "df.select(df.Car).show(truncate=False)"
   ]
  },
  {
   "cell_type": "code",
   "execution_count": 9,
   "metadata": {},
   "outputs": [
    {
     "name": "stdout",
     "output_type": "stream",
     "text": [
      "Column<'car'>\n",
      "********************\n",
      "+--------------------------------+\n",
      "|car                             |\n",
      "+--------------------------------+\n",
      "|Chevrolet Chevelle Malibu       |\n",
      "|Buick Skylark 320               |\n",
      "|Plymouth Satellite              |\n",
      "|AMC Rebel SST                   |\n",
      "|Ford Torino                     |\n",
      "|Ford Galaxie 500                |\n",
      "|Chevrolet Impala                |\n",
      "|Plymouth Fury iii               |\n",
      "|Pontiac Catalina                |\n",
      "|AMC Ambassador DPL              |\n",
      "|Citroen DS-21 Pallas            |\n",
      "|Chevrolet Chevelle Concours (sw)|\n",
      "|Ford Torino (sw)                |\n",
      "|Plymouth Satellite (sw)         |\n",
      "|AMC Rebel SST (sw)              |\n",
      "|Dodge Challenger SE             |\n",
      "|Plymouth 'Cuda 340              |\n",
      "|Ford Mustang Boss 302           |\n",
      "|Chevrolet Monte Carlo           |\n",
      "|Buick Estate Wagon (sw)         |\n",
      "+--------------------------------+\n",
      "only showing top 20 rows\n",
      "\n"
     ]
    }
   ],
   "source": [
    "# 2nd method\n",
    "# Column name is case insensitive here\n",
    "print(df['car'])\n",
    "print(\"*\"*20)\n",
    "df.select(df['car']).show(truncate=False)"
   ]
  },
  {
   "cell_type": "code",
   "execution_count": 10,
   "metadata": {},
   "outputs": [
    {
     "name": "stdout",
     "output_type": "stream",
     "text": [
      "+--------------------------------+\n",
      "|car                             |\n",
      "+--------------------------------+\n",
      "|Chevrolet Chevelle Malibu       |\n",
      "|Buick Skylark 320               |\n",
      "|Plymouth Satellite              |\n",
      "|AMC Rebel SST                   |\n",
      "|Ford Torino                     |\n",
      "|Ford Galaxie 500                |\n",
      "|Chevrolet Impala                |\n",
      "|Plymouth Fury iii               |\n",
      "|Pontiac Catalina                |\n",
      "|AMC Ambassador DPL              |\n",
      "|Citroen DS-21 Pallas            |\n",
      "|Chevrolet Chevelle Concours (sw)|\n",
      "|Ford Torino (sw)                |\n",
      "|Plymouth Satellite (sw)         |\n",
      "|AMC Rebel SST (sw)              |\n",
      "|Dodge Challenger SE             |\n",
      "|Plymouth 'Cuda 340              |\n",
      "|Ford Mustang Boss 302           |\n",
      "|Chevrolet Monte Carlo           |\n",
      "|Buick Estate Wagon (sw)         |\n",
      "+--------------------------------+\n",
      "only showing top 20 rows\n",
      "\n"
     ]
    }
   ],
   "source": [
    "# 3rd method\n",
    "# Column name is case insensitive here\n",
    "from pyspark.sql.functions import col\n",
    "df.select(col('car')).show(truncate=False)"
   ]
  },
  {
   "cell_type": "code",
   "execution_count": 11,
   "metadata": {},
   "outputs": [
    {
     "name": "stdout",
     "output_type": "stream",
     "text": [
      "Column<'car'> Column<'cylinders'>\n",
      "****************************************\n",
      "+--------------------------------+---------+\n",
      "|car                             |cylinders|\n",
      "+--------------------------------+---------+\n",
      "|Chevrolet Chevelle Malibu       |8        |\n",
      "|Buick Skylark 320               |8        |\n",
      "|Plymouth Satellite              |8        |\n",
      "|AMC Rebel SST                   |8        |\n",
      "|Ford Torino                     |8        |\n",
      "|Ford Galaxie 500                |8        |\n",
      "|Chevrolet Impala                |8        |\n",
      "|Plymouth Fury iii               |8        |\n",
      "|Pontiac Catalina                |8        |\n",
      "|AMC Ambassador DPL              |8        |\n",
      "|Citroen DS-21 Pallas            |4        |\n",
      "|Chevrolet Chevelle Concours (sw)|8        |\n",
      "|Ford Torino (sw)                |8        |\n",
      "|Plymouth Satellite (sw)         |8        |\n",
      "|AMC Rebel SST (sw)              |8        |\n",
      "|Dodge Challenger SE             |8        |\n",
      "|Plymouth 'Cuda 340              |8        |\n",
      "|Ford Mustang Boss 302           |8        |\n",
      "|Chevrolet Monte Carlo           |8        |\n",
      "|Buick Estate Wagon (sw)         |8        |\n",
      "+--------------------------------+---------+\n",
      "only showing top 20 rows\n",
      "\n"
     ]
    }
   ],
   "source": [
    "# 2nd method\n",
    "# Column name is case insensitive in this usage\n",
    "print(df['car'],df['cylinders'])\n",
    "print(\"*\"*40)\n",
    "df.select(df['car'],df['cylinders']).show(truncate=False)"
   ]
  },
  {
   "cell_type": "code",
   "execution_count": 12,
   "metadata": {},
   "outputs": [
    {
     "name": "stdout",
     "output_type": "stream",
     "text": [
      "+-------------------------+----+---------+------------+----------+------+------------+-----+------+------------+\n",
      "|Car                      |MPG |Cylinders|Displacement|Horsepower|Weight|Acceleration|Model|Origin|first_column|\n",
      "+-------------------------+----+---------+------------+----------+------+------------+-----+------+------------+\n",
      "|Chevrolet Chevelle Malibu|18.0|8        |307.0       |130.0     |3504  |12.0        |70   |US    |1           |\n",
      "|Buick Skylark 320        |15.0|8        |350.0       |165.0     |3693  |11.5        |70   |US    |1           |\n",
      "|Plymouth Satellite       |18.0|8        |318.0       |150.0     |3436  |11.0        |70   |US    |1           |\n",
      "|AMC Rebel SST            |16.0|8        |304.0       |150.0     |3433  |12.0        |70   |US    |1           |\n",
      "|Ford Torino              |17.0|8        |302.0       |140.0     |3449  |10.5        |70   |US    |1           |\n",
      "+-------------------------+----+---------+------------+----------+------+------------+-----+------+------------+\n",
      "only showing top 5 rows\n",
      "\n"
     ]
    }
   ],
   "source": [
    "# CASE 1: Adding a new column\n",
    "# We will add a new column called 'first_column' at the end\n",
    "from pyspark.sql.functions import lit\n",
    "df = df.withColumn('first_column',lit(1))\n",
    "# lit means literal. It populates the row with the literal value given.\n",
    "# When adding static data / constant values, it is a good practice to use it.\n",
    "df.show(5,truncate=False)"
   ]
  },
  {
   "cell_type": "code",
   "execution_count": 13,
   "metadata": {},
   "outputs": [
    {
     "name": "stdout",
     "output_type": "stream",
     "text": [
      "+-------------------------+----+---------+------------+----------+------+------------+-----+------+------------+-------------+------------+\n",
      "|Car                      |MPG |Cylinders|Displacement|Horsepower|Weight|Acceleration|Model|Origin|first_column|second_column|third_column|\n",
      "+-------------------------+----+---------+------------+----------+------+------------+-----+------+------------+-------------+------------+\n",
      "|Chevrolet Chevelle Malibu|18.0|8        |307.0       |130.0     |3504  |12.0        |70   |US    |1           |2            |Third Column|\n",
      "|Buick Skylark 320        |15.0|8        |350.0       |165.0     |3693  |11.5        |70   |US    |1           |2            |Third Column|\n",
      "|Plymouth Satellite       |18.0|8        |318.0       |150.0     |3436  |11.0        |70   |US    |1           |2            |Third Column|\n",
      "|AMC Rebel SST            |16.0|8        |304.0       |150.0     |3433  |12.0        |70   |US    |1           |2            |Third Column|\n",
      "|Ford Torino              |17.0|8        |302.0       |140.0     |3449  |10.5        |70   |US    |1           |2            |Third Column|\n",
      "+-------------------------+----+---------+------------+----------+------+------------+-----+------+------------+-------------+------------+\n",
      "only showing top 5 rows\n",
      "\n"
     ]
    }
   ],
   "source": [
    "# CASE 2: Adding multiple columns\n",
    "# We will add two new columns called 'second_column' and 'third_column' at the end\n",
    "df = df.withColumn('second_column', lit(2)) \\\n",
    "       .withColumn('third_column', lit('Third Column'))\n",
    "# lit means literal. It populates the row with the literal value given.\n",
    "# When adding static data / constant values, it is a good practice to use it.\n",
    "df.show(5,truncate=False)\n"
   ]
  },
  {
   "cell_type": "code",
   "execution_count": 14,
   "metadata": {},
   "outputs": [
    {
     "name": "stdout",
     "output_type": "stream",
     "text": [
      "+--------------------------------+----+---------+------------+----------+------+------------+-----+------+--------------+--------------+----------------+\n",
      "|Car                             |MPG |Cylinders|Displacement|Horsepower|Weight|Acceleration|Model|Origin|new_column_one|new_column_two|new_column_three|\n",
      "+--------------------------------+----+---------+------------+----------+------+------------+-----+------+--------------+--------------+----------------+\n",
      "|Chevrolet Chevelle Malibu       |18.0|8        |307.0       |130.0     |3504  |12.0        |70   |US    |1             |2             |Third Column    |\n",
      "|Buick Skylark 320               |15.0|8        |350.0       |165.0     |3693  |11.5        |70   |US    |1             |2             |Third Column    |\n",
      "|Plymouth Satellite              |18.0|8        |318.0       |150.0     |3436  |11.0        |70   |US    |1             |2             |Third Column    |\n",
      "|AMC Rebel SST                   |16.0|8        |304.0       |150.0     |3433  |12.0        |70   |US    |1             |2             |Third Column    |\n",
      "|Ford Torino                     |17.0|8        |302.0       |140.0     |3449  |10.5        |70   |US    |1             |2             |Third Column    |\n",
      "|Ford Galaxie 500                |15.0|8        |429.0       |198.0     |4341  |10.0        |70   |US    |1             |2             |Third Column    |\n",
      "|Chevrolet Impala                |14.0|8        |454.0       |220.0     |4354  |9.0         |70   |US    |1             |2             |Third Column    |\n",
      "|Plymouth Fury iii               |14.0|8        |440.0       |215.0     |4312  |8.5         |70   |US    |1             |2             |Third Column    |\n",
      "|Pontiac Catalina                |14.0|8        |455.0       |225.0     |4425  |10.0        |70   |US    |1             |2             |Third Column    |\n",
      "|AMC Ambassador DPL              |15.0|8        |390.0       |190.0     |3850  |8.5         |70   |US    |1             |2             |Third Column    |\n",
      "|Citroen DS-21 Pallas            |0.0 |4        |133.0       |115.0     |3090  |17.5        |70   |Europe|1             |2             |Third Column    |\n",
      "|Chevrolet Chevelle Concours (sw)|0.0 |8        |350.0       |165.0     |4142  |11.5        |70   |US    |1             |2             |Third Column    |\n",
      "|Ford Torino (sw)                |0.0 |8        |351.0       |153.0     |4034  |11.0        |70   |US    |1             |2             |Third Column    |\n",
      "|Plymouth Satellite (sw)         |0.0 |8        |383.0       |175.0     |4166  |10.5        |70   |US    |1             |2             |Third Column    |\n",
      "|AMC Rebel SST (sw)              |0.0 |8        |360.0       |175.0     |3850  |11.0        |70   |US    |1             |2             |Third Column    |\n",
      "|Dodge Challenger SE             |15.0|8        |383.0       |170.0     |3563  |10.0        |70   |US    |1             |2             |Third Column    |\n",
      "|Plymouth 'Cuda 340              |14.0|8        |340.0       |160.0     |3609  |8.0         |70   |US    |1             |2             |Third Column    |\n",
      "|Ford Mustang Boss 302           |0.0 |8        |302.0       |140.0     |3353  |8.0         |70   |US    |1             |2             |Third Column    |\n",
      "|Chevrolet Monte Carlo           |15.0|8        |400.0       |150.0     |3761  |9.5         |70   |US    |1             |2             |Third Column    |\n",
      "|Buick Estate Wagon (sw)         |14.0|8        |455.0       |225.0     |3086  |10.0        |70   |US    |1             |2             |Third Column    |\n",
      "+--------------------------------+----+---------+------------+----------+------+------------+-----+------+--------------+--------------+----------------+\n",
      "only showing top 20 rows\n",
      "\n"
     ]
    }
   ],
   "source": [
    "#Renaming a column in PySpark\n",
    "df = df.withColumnRenamed('first_column', 'new_column_one') \\\n",
    "       .withColumnRenamed('second_column', 'new_column_two') \\\n",
    "       .withColumnRenamed('third_column', 'new_column_three')\n",
    "df.show(truncate=False)"
   ]
  },
  {
   "cell_type": "code",
   "execution_count": 15,
   "metadata": {},
   "outputs": [
    {
     "name": "stdout",
     "output_type": "stream",
     "text": [
      "+------+-----+\n",
      "|Origin|count|\n",
      "+------+-----+\n",
      "|Europe|   73|\n",
      "|    US|  254|\n",
      "| Japan|   79|\n",
      "+------+-----+\n",
      "\n"
     ]
    }
   ],
   "source": [
    "# Group By a column in PySpark\n",
    "df.groupBy('Origin').count().show(5)"
   ]
  },
  {
   "cell_type": "code",
   "execution_count": 16,
   "metadata": {},
   "outputs": [
    {
     "name": "stdout",
     "output_type": "stream",
     "text": [
      "+------+-----+-----+\n",
      "|Origin|Model|count|\n",
      "+------+-----+-----+\n",
      "|Europe|   71|    5|\n",
      "|Europe|   80|    9|\n",
      "|Europe|   79|    4|\n",
      "| Japan|   75|    4|\n",
      "|    US|   72|   18|\n",
      "+------+-----+-----+\n",
      "only showing top 5 rows\n",
      "\n"
     ]
    }
   ],
   "source": [
    "# Group By multiple columns in PySpark\n",
    "df.groupBy('Origin', 'Model').count().show(5)"
   ]
  },
  {
   "cell_type": "code",
   "execution_count": 17,
   "metadata": {},
   "outputs": [
    {
     "name": "stdout",
     "output_type": "stream",
     "text": [
      "+-------------------------+----+---------+------------+----------+------+------------+-----+------+--------------+----------------+\n",
      "|Car                      |MPG |Cylinders|Displacement|Horsepower|Weight|Acceleration|Model|Origin|new_column_two|new_column_three|\n",
      "+-------------------------+----+---------+------------+----------+------+------------+-----+------+--------------+----------------+\n",
      "|Chevrolet Chevelle Malibu|18.0|8        |307.0       |130.0     |3504  |12.0        |70   |US    |2             |Third Column    |\n",
      "|Buick Skylark 320        |15.0|8        |350.0       |165.0     |3693  |11.5        |70   |US    |2             |Third Column    |\n",
      "|Plymouth Satellite       |18.0|8        |318.0       |150.0     |3436  |11.0        |70   |US    |2             |Third Column    |\n",
      "|AMC Rebel SST            |16.0|8        |304.0       |150.0     |3433  |12.0        |70   |US    |2             |Third Column    |\n",
      "|Ford Torino              |17.0|8        |302.0       |140.0     |3449  |10.5        |70   |US    |2             |Third Column    |\n",
      "+-------------------------+----+---------+------------+----------+------+------------+-----+------+--------------+----------------+\n",
      "only showing top 5 rows\n",
      "\n"
     ]
    }
   ],
   "source": [
    "#Remove columns in PySpark\n",
    "df = df.drop('new_column_one')\n",
    "df.show(5,truncate=False)"
   ]
  },
  {
   "cell_type": "code",
   "execution_count": 18,
   "metadata": {},
   "outputs": [
    {
     "name": "stdout",
     "output_type": "stream",
     "text": [
      "+-------------------------+----+---------+------------+----------+------+------------+-----+------+\n",
      "|Car                      |MPG |Cylinders|Displacement|Horsepower|Weight|Acceleration|Model|Origin|\n",
      "+-------------------------+----+---------+------------+----------+------+------------+-----+------+\n",
      "|Chevrolet Chevelle Malibu|18.0|8        |307.0       |130.0     |3504  |12.0        |70   |US    |\n",
      "|Buick Skylark 320        |15.0|8        |350.0       |165.0     |3693  |11.5        |70   |US    |\n",
      "|Plymouth Satellite       |18.0|8        |318.0       |150.0     |3436  |11.0        |70   |US    |\n",
      "|AMC Rebel SST            |16.0|8        |304.0       |150.0     |3433  |12.0        |70   |US    |\n",
      "|Ford Torino              |17.0|8        |302.0       |140.0     |3449  |10.5        |70   |US    |\n",
      "+-------------------------+----+---------+------------+----------+------+------------+-----+------+\n",
      "only showing top 5 rows\n",
      "\n"
     ]
    }
   ],
   "source": [
    "#Remove multiple columnss in one go\n",
    "df = df.drop('new_column_two') \\\n",
    "       .drop('new_column_three')\n",
    "df.show(5,truncate=False)"
   ]
  },
  {
   "cell_type": "code",
   "execution_count": 19,
   "metadata": {},
   "outputs": [
    {
     "name": "stdout",
     "output_type": "stream",
     "text": [
      "TOTAL RECORD COUNT: 406\n",
      "EUROPE FILTERED RECORD COUNT: 73\n",
      "+----------------------------+----+---------+------------+----------+------+------------+-----+------+\n",
      "|Car                         |MPG |Cylinders|Displacement|Horsepower|Weight|Acceleration|Model|Origin|\n",
      "+----------------------------+----+---------+------------+----------+------+------------+-----+------+\n",
      "|Citroen DS-21 Pallas        |0.0 |4        |133.0       |115.0     |3090  |17.5        |70   |Europe|\n",
      "|Volkswagen 1131 Deluxe Sedan|26.0|4        |97.0        |46.0      |1835  |20.5        |70   |Europe|\n",
      "|Peugeot 504                 |25.0|4        |110.0       |87.0      |2672  |17.5        |70   |Europe|\n",
      "|Audi 100 LS                 |24.0|4        |107.0       |90.0      |2430  |14.5        |70   |Europe|\n",
      "|Saab 99e                    |25.0|4        |104.0       |95.0      |2375  |17.5        |70   |Europe|\n",
      "|BMW 2002                    |26.0|4        |121.0       |113.0     |2234  |12.5        |70   |Europe|\n",
      "|Volkswagen Super Beetle 117 |0.0 |4        |97.0        |48.0      |1978  |20.0        |71   |Europe|\n",
      "|Opel 1900                   |28.0|4        |116.0       |90.0      |2123  |14.0        |71   |Europe|\n",
      "|Peugeot 304                 |30.0|4        |79.0        |70.0      |2074  |19.5        |71   |Europe|\n",
      "|Fiat 124B                   |30.0|4        |88.0        |76.0      |2065  |14.5        |71   |Europe|\n",
      "|Volkswagen Model 111        |27.0|4        |97.0        |60.0      |1834  |19.0        |71   |Europe|\n",
      "|Volkswagen Type 3           |23.0|4        |97.0        |54.0      |2254  |23.5        |72   |Europe|\n",
      "|Volvo 145e (sw)             |18.0|4        |121.0       |112.0     |2933  |14.5        |72   |Europe|\n",
      "|Volkswagen 411 (sw)         |22.0|4        |121.0       |76.0      |2511  |18.0        |72   |Europe|\n",
      "|Peugeot 504 (sw)            |21.0|4        |120.0       |87.0      |2979  |19.5        |72   |Europe|\n",
      "|Renault 12 (sw)             |26.0|4        |96.0        |69.0      |2189  |18.0        |72   |Europe|\n",
      "|Volkswagen Super Beetle     |26.0|4        |97.0        |46.0      |1950  |21.0        |73   |Europe|\n",
      "|Fiat 124 Sport Coupe        |26.0|4        |98.0        |90.0      |2265  |15.5        |73   |Europe|\n",
      "|Fiat 128                    |29.0|4        |68.0        |49.0      |1867  |19.5        |73   |Europe|\n",
      "|Opel Manta                  |24.0|4        |116.0       |75.0      |2158  |15.5        |73   |Europe|\n",
      "+----------------------------+----+---------+------------+----------+------+------------+-----+------+\n",
      "only showing top 20 rows\n",
      "\n"
     ]
    }
   ],
   "source": [
    "# Filtering rows in PySpark\n",
    "total_count = df.count()\n",
    "print(\"TOTAL RECORD COUNT: \" + str(total_count))\n",
    "europe_filtered_count = df.filter(col('Origin')=='Europe').count()\n",
    "print(\"EUROPE FILTERED RECORD COUNT: \" + str(europe_filtered_count))\n",
    "df.filter(col('Origin')=='Europe').show(truncate=False)"
   ]
  },
  {
   "cell_type": "code",
   "execution_count": 20,
   "metadata": {},
   "outputs": [
    {
     "name": "stdout",
     "output_type": "stream",
     "text": [
      "TOTAL RECORD COUNT: 406\n",
      "EUROPE FILTERED RECORD COUNT: 66\n",
      "+----------------------------+----+---------+------------+----------+------+------------+-----+------+\n",
      "|Car                         |MPG |Cylinders|Displacement|Horsepower|Weight|Acceleration|Model|Origin|\n",
      "+----------------------------+----+---------+------------+----------+------+------------+-----+------+\n",
      "|Citroen DS-21 Pallas        |0.0 |4        |133.0       |115.0     |3090  |17.5        |70   |Europe|\n",
      "|Volkswagen 1131 Deluxe Sedan|26.0|4        |97.0        |46.0      |1835  |20.5        |70   |Europe|\n",
      "|Peugeot 504                 |25.0|4        |110.0       |87.0      |2672  |17.5        |70   |Europe|\n",
      "|Audi 100 LS                 |24.0|4        |107.0       |90.0      |2430  |14.5        |70   |Europe|\n",
      "|Saab 99e                    |25.0|4        |104.0       |95.0      |2375  |17.5        |70   |Europe|\n",
      "|BMW 2002                    |26.0|4        |121.0       |113.0     |2234  |12.5        |70   |Europe|\n",
      "|Volkswagen Super Beetle 117 |0.0 |4        |97.0        |48.0      |1978  |20.0        |71   |Europe|\n",
      "|Opel 1900                   |28.0|4        |116.0       |90.0      |2123  |14.0        |71   |Europe|\n",
      "|Peugeot 304                 |30.0|4        |79.0        |70.0      |2074  |19.5        |71   |Europe|\n",
      "|Fiat 124B                   |30.0|4        |88.0        |76.0      |2065  |14.5        |71   |Europe|\n",
      "|Volkswagen Model 111        |27.0|4        |97.0        |60.0      |1834  |19.0        |71   |Europe|\n",
      "|Volkswagen Type 3           |23.0|4        |97.0        |54.0      |2254  |23.5        |72   |Europe|\n",
      "|Volvo 145e (sw)             |18.0|4        |121.0       |112.0     |2933  |14.5        |72   |Europe|\n",
      "|Volkswagen 411 (sw)         |22.0|4        |121.0       |76.0      |2511  |18.0        |72   |Europe|\n",
      "|Peugeot 504 (sw)            |21.0|4        |120.0       |87.0      |2979  |19.5        |72   |Europe|\n",
      "|Renault 12 (sw)             |26.0|4        |96.0        |69.0      |2189  |18.0        |72   |Europe|\n",
      "|Volkswagen Super Beetle     |26.0|4        |97.0        |46.0      |1950  |21.0        |73   |Europe|\n",
      "|Fiat 124 Sport Coupe        |26.0|4        |98.0        |90.0      |2265  |15.5        |73   |Europe|\n",
      "|Fiat 128                    |29.0|4        |68.0        |49.0      |1867  |19.5        |73   |Europe|\n",
      "|Opel Manta                  |24.0|4        |116.0       |75.0      |2158  |15.5        |73   |Europe|\n",
      "+----------------------------+----+---------+------------+----------+------+------------+-----+------+\n",
      "only showing top 20 rows\n",
      "\n"
     ]
    }
   ],
   "source": [
    "# Filtering rows in PySpark based on Multiple conditions\n",
    "total_count = df.count()\n",
    "print(\"TOTAL RECORD COUNT: \" + str(total_count))\n",
    "europe_filtered_count = df.filter((col('Origin')=='Europe') &\n",
    "                                  (col('Cylinders')==4)).count() # Two conditions added here\n",
    "print(\"EUROPE FILTERED RECORD COUNT: \" + str(europe_filtered_count))\n",
    "df.filter(col('Origin')=='Europe').show(truncate=False)"
   ]
  },
  {
   "cell_type": "code",
   "execution_count": 21,
   "metadata": {},
   "outputs": [
    {
     "name": "stdout",
     "output_type": "stream",
     "text": [
      "+------+\n",
      "|Origin|\n",
      "+------+\n",
      "|Europe|\n",
      "|    US|\n",
      "| Japan|\n",
      "+------+\n",
      "\n"
     ]
    }
   ],
   "source": [
    "#Get Unique Rows in PySpark\n",
    "df.select('Origin').distinct().show()"
   ]
  },
  {
   "cell_type": "code",
   "execution_count": 22,
   "metadata": {},
   "outputs": [
    {
     "name": "stdout",
     "output_type": "stream",
     "text": [
      "+------+-----+\n",
      "|Origin|model|\n",
      "+------+-----+\n",
      "|Europe|   71|\n",
      "|Europe|   80|\n",
      "|Europe|   79|\n",
      "| Japan|   75|\n",
      "|    US|   72|\n",
      "|    US|   80|\n",
      "|Europe|   74|\n",
      "| Japan|   79|\n",
      "|Europe|   76|\n",
      "|    US|   75|\n",
      "| Japan|   77|\n",
      "|    US|   82|\n",
      "| Japan|   80|\n",
      "| Japan|   78|\n",
      "|    US|   78|\n",
      "|Europe|   75|\n",
      "|    US|   71|\n",
      "|    US|   77|\n",
      "| Japan|   70|\n",
      "| Japan|   71|\n",
      "+------+-----+\n",
      "only showing top 20 rows\n",
      "\n"
     ]
    }
   ],
   "source": [
    "df.select('Origin','model').distinct().show()"
   ]
  },
  {
   "cell_type": "code",
   "execution_count": 23,
   "metadata": {},
   "outputs": [
    {
     "name": "stdout",
     "output_type": "stream",
     "text": [
      "+----------------------------+----+---------+------------+----------+------+------------+-----+------+\n",
      "|Car                         |MPG |Cylinders|Displacement|Horsepower|Weight|Acceleration|Model|Origin|\n",
      "+----------------------------+----+---------+------------+----------+------+------------+-----+------+\n",
      "|Mazda RX-4                  |21.5|3        |80.0        |110.0     |2720  |13.5        |77   |Japan |\n",
      "|Mazda RX-7 GS               |23.7|3        |70.0        |100.0     |2420  |12.5        |80   |Japan |\n",
      "|Mazda RX2 Coupe             |19.0|3        |70.0        |97.0      |2330  |13.5        |72   |Japan |\n",
      "|Mazda RX3                   |18.0|3        |70.0        |90.0      |2124  |13.5        |73   |Japan |\n",
      "|Datsun 510 (sw)             |28.0|4        |97.0        |92.0      |2288  |17.0        |72   |Japan |\n",
      "|Opel 1900                   |28.0|4        |116.0       |90.0      |2123  |14.0        |71   |Europe|\n",
      "|Mercury Capri 2000          |23.0|4        |122.0       |86.0      |2220  |14.0        |71   |US    |\n",
      "|Volkswagen 1131 Deluxe Sedan|26.0|4        |97.0        |46.0      |1835  |20.5        |70   |Europe|\n",
      "|Peugeot 304                 |30.0|4        |79.0        |70.0      |2074  |19.5        |71   |Europe|\n",
      "|Fiat 124B                   |30.0|4        |88.0        |76.0      |2065  |14.5        |71   |Europe|\n",
      "|Chevrolet Vega (sw)         |22.0|4        |140.0       |72.0      |2408  |19.0        |71   |US    |\n",
      "|Datsun 1200                 |35.0|4        |72.0        |69.0      |1613  |18.0        |71   |Japan |\n",
      "|Volkswagen Model 111        |27.0|4        |97.0        |60.0      |1834  |19.0        |71   |Europe|\n",
      "|Volkswagen Type 3           |23.0|4        |97.0        |54.0      |2254  |23.5        |72   |Europe|\n",
      "|Audi 100 LS                 |24.0|4        |107.0       |90.0      |2430  |14.5        |70   |Europe|\n",
      "|BMW 2002                    |26.0|4        |121.0       |113.0     |2234  |12.5        |70   |Europe|\n",
      "|Toyota Corolla 1200         |31.0|4        |71.0        |65.0      |1773  |19.0        |71   |Japan |\n",
      "|Chevrolet Vega 2300         |28.0|4        |140.0       |90.0      |2264  |15.5        |71   |US    |\n",
      "|Ford Pinto                  |25.0|4        |98.0        |0.0       |2046  |19.0        |71   |US    |\n",
      "|Dodge Colt Hardtop          |25.0|4        |97.5        |80.0      |2126  |17.0        |72   |US    |\n",
      "+----------------------------+----+---------+------------+----------+------+------------+-----+------+\n",
      "only showing top 20 rows\n",
      "\n"
     ]
    }
   ],
   "source": [
    "df.orderBy('Cylinders').show(truncate=False)\n"
   ]
  },
  {
   "cell_type": "code",
   "execution_count": 24,
   "metadata": {},
   "outputs": [
    {
     "name": "stdout",
     "output_type": "stream",
     "text": [
      "+-------------------------+----+---------+------------+----------+------+------------+-----+------+\n",
      "|Car                      |MPG |Cylinders|Displacement|Horsepower|Weight|Acceleration|Model|Origin|\n",
      "+-------------------------+----+---------+------------+----------+------+------------+-----+------+\n",
      "|Plymouth 'Cuda 340       |14.0|8        |340.0       |160.0     |3609  |8.0         |70   |US    |\n",
      "|Pontiac Safari (sw)      |13.0|8        |400.0       |175.0     |5140  |12.0        |71   |US    |\n",
      "|Ford Mustang Boss 302    |0.0 |8        |302.0       |140.0     |3353  |8.0         |70   |US    |\n",
      "|Buick Skylark 320        |15.0|8        |350.0       |165.0     |3693  |11.5        |70   |US    |\n",
      "|Chevrolet Monte Carlo    |15.0|8        |400.0       |150.0     |3761  |9.5         |70   |US    |\n",
      "|AMC Rebel SST            |16.0|8        |304.0       |150.0     |3433  |12.0        |70   |US    |\n",
      "|Buick Estate Wagon (sw)  |14.0|8        |455.0       |225.0     |3086  |10.0        |70   |US    |\n",
      "|Ford Galaxie 500         |15.0|8        |429.0       |198.0     |4341  |10.0        |70   |US    |\n",
      "|Ford F250                |10.0|8        |360.0       |215.0     |4615  |14.0        |70   |US    |\n",
      "|Plymouth Fury iii        |14.0|8        |440.0       |215.0     |4312  |8.5         |70   |US    |\n",
      "|Chevy C20                |10.0|8        |307.0       |200.0     |4376  |15.0        |70   |US    |\n",
      "|AMC Ambassador DPL       |15.0|8        |390.0       |190.0     |3850  |8.5         |70   |US    |\n",
      "|Dodge D200               |11.0|8        |318.0       |210.0     |4382  |13.5        |70   |US    |\n",
      "|Ford Torino (sw)         |0.0 |8        |351.0       |153.0     |4034  |11.0        |70   |US    |\n",
      "|Hi 1200D                 |9.0 |8        |304.0       |193.0     |4732  |18.5        |70   |US    |\n",
      "|AMC Rebel SST (sw)       |0.0 |8        |360.0       |175.0     |3850  |11.0        |70   |US    |\n",
      "|Chevrolet Impala         |14.0|8        |350.0       |165.0     |4209  |12.0        |71   |US    |\n",
      "|Chevrolet Chevelle Malibu|18.0|8        |307.0       |130.0     |3504  |12.0        |70   |US    |\n",
      "|Pontiac Catalina Brougham|14.0|8        |400.0       |175.0     |4464  |11.5        |71   |US    |\n",
      "|Ford Torino              |17.0|8        |302.0       |140.0     |3449  |10.5        |70   |US    |\n",
      "+-------------------------+----+---------+------------+----------+------+------------+-----+------+\n",
      "only showing top 20 rows\n",
      "\n"
     ]
    }
   ],
   "source": [
    "df.orderBy('Cylinders', ascending=False).show(truncate=False)\n"
   ]
  },
  {
   "cell_type": "code",
   "execution_count": 25,
   "metadata": {},
   "outputs": [
    {
     "name": "stdout",
     "output_type": "stream",
     "text": [
      "+------+-----+\n",
      "|Origin|count|\n",
      "+------+-----+\n",
      "|    US|  254|\n",
      "| Japan|   79|\n",
      "|Europe|   73|\n",
      "+------+-----+\n",
      "\n"
     ]
    }
   ],
   "source": [
    "df.groupBy(\"Origin\").count().orderBy('count', ascending=False).show(10)\n"
   ]
  },
  {
   "cell_type": "code",
   "execution_count": 26,
   "metadata": {},
   "outputs": [
    {
     "name": "stdout",
     "output_type": "stream",
     "text": [
      "EUROPE CARS: 3\n",
      "JAPAN CARS: 4\n",
      "AFTER UNION: 7\n"
     ]
    }
   ],
   "source": [
    "# CASE 1: Union When columns are in order\n",
    "df = spark.read.csv('cars.csv', header=True, sep=\";\", inferSchema=True)\n",
    "europe_cars = df.filter((col('Origin')=='Europe') & (col('Cylinders')==5))\n",
    "japan_cars = df.filter((col('Origin')=='Japan') & (col('Cylinders')==3))\n",
    "print(\"EUROPE CARS: \"+str(europe_cars.count()))\n",
    "print(\"JAPAN CARS: \"+str(japan_cars.count()))\n",
    "print(\"AFTER UNION: \"+str(europe_cars.union(japan_cars).count()))"
   ]
  },
  {
   "cell_type": "code",
   "execution_count": 27,
   "metadata": {},
   "outputs": [
    {
     "name": "stdout",
     "output_type": "stream",
     "text": [
      "+----+----+----+\n",
      "|col0|col1|col2|\n",
      "+----+----+----+\n",
      "|   1|   2|   3|\n",
      "|   6|   4|   5|\n",
      "+----+----+----+\n",
      "\n"
     ]
    }
   ],
   "source": [
    "# CASE 1: Union When columns are not in order\n",
    "# Creating two dataframes with jumbled columns\n",
    "df1 = spark.createDataFrame([[1, 2, 3]], [\"col0\", \"col1\", \"col2\"])\n",
    "df2 = spark.createDataFrame([[4, 5, 6]], [\"col1\", \"col2\", \"col0\"])\n",
    "df1.unionByName(df2).show()"
   ]
  }
 ],
 "metadata": {
  "interpreter": {
   "hash": "93d87aec9b4fd1bcf27c0a424f383372d98ca308b2ecd2482b3b93b80e453b15"
  },
  "kernelspec": {
   "display_name": "Python 3.8.10 64-bit ('pyspark_prac-QhYfwHaC': pipenv)",
   "language": "python",
   "name": "python3"
  },
  "language_info": {
   "codemirror_mode": {
    "name": "ipython",
    "version": 3
   },
   "file_extension": ".py",
   "mimetype": "text/x-python",
   "name": "python",
   "nbconvert_exporter": "python",
   "pygments_lexer": "ipython3",
   "version": "3.8.10"
  },
  "orig_nbformat": 4
 },
 "nbformat": 4,
 "nbformat_minor": 2
}
