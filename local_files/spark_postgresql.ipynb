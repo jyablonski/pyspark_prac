{
 "cells": [
  {
   "cell_type": "code",
   "execution_count": 1,
   "metadata": {},
   "outputs": [
    {
     "name": "stderr",
     "output_type": "stream",
     "text": [
      "22/02/13 13:22:20 WARN Utils: Your hostname, jacob-BigOtisLinux resolves to a loopback address: 127.0.1.1; using 192.168.50.142 instead (on interface enp6s0)\n",
      "22/02/13 13:22:20 WARN Utils: Set SPARK_LOCAL_IP if you need to bind to another address\n",
      "Ivy Default Cache set to: /home/jacob/.ivy2/cache\n",
      "The jars for the packages stored in: /home/jacob/.ivy2/jars\n",
      "org.postgresql#postgresql added as a dependency\n",
      ":: resolving dependencies :: org.apache.spark#spark-submit-parent-b67999cd-5153-49b9-8c6f-6762fd900d75;1.0\n",
      "\tconfs: [default]\n"
     ]
    },
    {
     "name": "stdout",
     "output_type": "stream",
     "text": [
      ":: loading settings :: url = jar:file:/home/jacob/.local/share/virtualenvs/pyspark_prac-QhYfwHaC/lib/python3.8/site-packages/pyspark/jars/ivy-2.5.0.jar!/org/apache/ivy/core/settings/ivysettings.xml\n"
     ]
    },
    {
     "name": "stderr",
     "output_type": "stream",
     "text": [
      "\tfound org.postgresql#postgresql;42.1.1 in central\n",
      ":: resolution report :: resolve 75ms :: artifacts dl 1ms\n",
      "\t:: modules in use:\n",
      "\torg.postgresql#postgresql;42.1.1 from central in [default]\n",
      "\t---------------------------------------------------------------------\n",
      "\t|                  |            modules            ||   artifacts   |\n",
      "\t|       conf       | number| search|dwnlded|evicted|| number|dwnlded|\n",
      "\t---------------------------------------------------------------------\n",
      "\t|      default     |   1   |   0   |   0   |   0   ||   1   |   0   |\n",
      "\t---------------------------------------------------------------------\n",
      ":: retrieving :: org.apache.spark#spark-submit-parent-b67999cd-5153-49b9-8c6f-6762fd900d75\n",
      "\tconfs: [default]\n",
      "\t0 artifacts copied, 1 already retrieved (0kB/2ms)\n",
      "22/02/13 13:22:20 WARN NativeCodeLoader: Unable to load native-hadoop library for your platform... using builtin-java classes where applicable\n",
      "Using Spark's default log4j profile: org/apache/spark/log4j-defaults.properties\n",
      "Setting default log level to \"WARN\".\n",
      "To adjust logging level use sc.setLogLevel(newLevel). For SparkR, use setLogLevel(newLevel).\n"
     ]
    }
   ],
   "source": [
    "import pyspark\n",
    "from pyspark.sql import Row\n",
    "import pandas as pd\n",
    "from datetime import datetime, date\n",
    "import os\n",
    "\n",
    "from pyspark.sql import SparkSession\n",
    "from pyspark.sql import functions as F\n",
    "sparkClassPath = os.environ['PYSPARK_SUBMIT_ARGS'] = '--packages org.postgresql:postgresql:42.1.1 pyspark-shell'\n",
    "spark = SparkSession.builder.appName(\"Practice\").config(\"spark.driver.extraClassPath\", sparkClassPath).getOrCreate()"
   ]
  },
  {
   "cell_type": "code",
   "execution_count": 14,
   "metadata": {},
   "outputs": [],
   "source": [
    "# looks like you have to set the schema in the dbtable option\n",
    "df = spark.read \\\n",
    "    .format(\"jdbc\") \\\n",
    "    .option(\"url\", f\"jdbc:postgresql://{os.environ.get('IP')}/{os.environ.get('RDS_DB')}\") \\\n",
    "    .option(\"driver\", \"org.postgresql.Driver\") \\\n",
    "    .option(\"dbtable\", f\"{os.environ.get('RDS_SCHEMA')}.aws_odds_source\") \\\n",
    "    .option(\"user\", os.environ.get('RDS_USER')) \\\n",
    "    .option(\"password\", os.environ.get('RDS_PW')) \\\n",
    "    .load()"
   ]
  },
  {
   "cell_type": "code",
   "execution_count": 15,
   "metadata": {},
   "outputs": [
    {
     "name": "stdout",
     "output_type": "stream",
     "text": [
      "+----+------+-----+---------+----------+-------------------+\n",
      "|team|spread|total|moneyline|      date|          datetime1|\n",
      "+----+------+-----+---------+----------+-------------------+\n",
      "|  NO|     2|  217|      105|2022-02-01|2022-02-01 18:10:00|\n",
      "| DET|    -2|  217|     -125|2022-02-01|2022-02-01 18:10:00|\n",
      "| WAS|  11.5|229.5|      500|2022-02-01|2022-02-01 18:30:00|\n",
      "| MIL| -11.5|229.5|     -720|2022-02-01|2022-02-01 18:30:00|\n",
      "| MIA|   1.5|210.5|      105|2022-02-01|2022-02-01 18:40:00|\n",
      "| TOR|  -1.5|210.5|     -125|2022-02-01|2022-02-01 18:40:00|\n",
      "| ORL|     9|  223|      300|2022-02-01|2022-02-01 19:10:00|\n",
      "| CHI|    -9|  223|     -400|2022-02-01|2022-02-01 19:10:00|\n",
      "| DEN|     3|228.5|      125|2022-02-01|2022-02-01 19:10:00|\n",
      "| MIN|    -3|228.5|     -145|2022-02-01|2022-02-01 19:10:00|\n",
      "|  GS|   5.5|219.5|      190|2022-02-01|2022-02-01 19:40:00|\n",
      "|  SA|  -5.5|219.5|     -235|2022-02-01|2022-02-01 19:40:00|\n",
      "| BKN|     6|  230|      195|2022-02-01|2022-02-01 21:00:00|\n",
      "| PHO|    -6|  230|     -240|2022-02-01|2022-02-01 21:00:00|\n",
      "+----+------+-----+---------+----------+-------------------+\n",
      "\n"
     ]
    }
   ],
   "source": [
    "df.show()"
   ]
  },
  {
   "cell_type": "code",
   "execution_count": 17,
   "metadata": {},
   "outputs": [],
   "source": [
    "df2 = df.toPandas()"
   ]
  }
 ],
 "metadata": {
  "interpreter": {
   "hash": "93d87aec9b4fd1bcf27c0a424f383372d98ca308b2ecd2482b3b93b80e453b15"
  },
  "kernelspec": {
   "display_name": "Python 3.8.10 ('pyspark_prac-QhYfwHaC')",
   "language": "python",
   "name": "python3"
  },
  "language_info": {
   "codemirror_mode": {
    "name": "ipython",
    "version": 3
   },
   "file_extension": ".py",
   "mimetype": "text/x-python",
   "name": "python",
   "nbconvert_exporter": "python",
   "pygments_lexer": "ipython3",
   "version": "3.8.10"
  },
  "orig_nbformat": 4
 },
 "nbformat": 4,
 "nbformat_minor": 2
}
